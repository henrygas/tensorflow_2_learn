{
  "nbformat": 4,
  "nbformat_minor": 0,
  "metadata": {
    "kernelspec": {
      "name": "python3",
      "display_name": "Python 3"
    },
    "language_info": {
      "codemirror_mode": {
        "name": "ipython",
        "version": 3
      },
      "file_extension": ".py",
      "mimetype": "text/x-python",
      "name": "python",
      "nbconvert_exporter": "python",
      "pygments_lexer": "ipython3",
      "version": "3.7.4"
    },
    "colab": {
      "name": "wnd_criteo.ipynb",
      "provenance": [],
      "collapsed_sections": [],
      "toc_visible": true,
      "include_colab_link": true
    },
    "accelerator": "TPU"
  },
  "cells": [
    {
      "cell_type": "markdown",
      "metadata": {
        "id": "view-in-github",
        "colab_type": "text"
      },
      "source": [
        "<a href=\"https://colab.research.google.com/github/henrygas/tensorflow_2_learn/blob/master/wnd_criteo.ipynb\" target=\"_parent\"><img src=\"https://colab.research.google.com/assets/colab-badge.svg\" alt=\"Open In Colab\"/></a>"
      ]
    },
    {
      "cell_type": "code",
      "metadata": {
        "id": "kDjPJj120zYr",
        "colab_type": "code",
        "colab": {}
      },
      "source": [
        "# Wide and Deep on TensorFlow (notebook style)"
      ],
      "execution_count": 0,
      "outputs": []
    },
    {
      "cell_type": "code",
      "metadata": {
        "id": "tUpOY7CZ2Pnd",
        "colab_type": "code",
        "outputId": "da6873da-5d2c-4c9f-b247-83a48a27067a",
        "colab": {
          "base_uri": "https://localhost:8080/",
          "height": 35
        }
      },
      "source": [
        "from google.colab import drive\n",
        "drive.mount('/content/drive')"
      ],
      "execution_count": 1,
      "outputs": [
        {
          "output_type": "stream",
          "text": [
            "Drive already mounted at /content/drive; to attempt to forcibly remount, call drive.mount(\"/content/drive\", force_remount=True).\n"
          ],
          "name": "stdout"
        }
      ]
    },
    {
      "cell_type": "code",
      "metadata": {
        "id": "qSLg5xyc6QQn",
        "colab_type": "code",
        "colab": {}
      },
      "source": [
        "import os\n",
        "os.chdir(\"drive/My Drive/app\")"
      ],
      "execution_count": 0,
      "outputs": []
    },
    {
      "cell_type": "code",
      "metadata": {
        "id": "711qa6-O7RJ9",
        "colab_type": "code",
        "outputId": "502123ed-667a-4020-9075-4ce43433c608",
        "colab": {
          "base_uri": "https://localhost:8080/",
          "height": 35
        }
      },
      "source": [
        "!ls"
      ],
      "execution_count": 3,
      "outputs": [
        {
          "output_type": "stream",
          "text": [
            "data  svm_data\tsvm_learn.ipynb\n"
          ],
          "name": "stdout"
        }
      ]
    },
    {
      "cell_type": "markdown",
      "metadata": {
        "id": "zQ-D7rLS0zYz",
        "colab_type": "text"
      },
      "source": [
        "Copyright 2016 Google Inc. All Rights Reserved. Licensed under the Apache License, Version 2.0 (the \"License\"); you may not use this file except in compliance with the License. You may obtain a copy of the License at\n",
        " http://www.apache.org/licenses/LICENSE-2.0\n",
        "\n",
        "Unless required by applicable law or agreed to in writing, software distributed under the License is distributed on an \"AS IS\" BASIS, WITHOUT WARRANTIES OR CONDITIONS OF ANY KIND, either express or implied. See the License for the specific language governing permissions and limitations under the License."
      ]
    },
    {
      "cell_type": "markdown",
      "metadata": {
        "id": "ZFMMCMM20zY0",
        "colab_type": "text"
      },
      "source": [
        "# Introduction\n",
        "\n",
        "This notebook uses the tf.learn API in TensorFlow to answer a yes/no question. This is called a binary classification problem: Given census data about a person such as age, gender, education and occupation (the features), we will try to predict whether or not the person earns more than 50,000 dollars a year (the target label). \n",
        "\n",
        "Given an individual's information our model will output a number between 0 and 1, which can be interpreted as the model's certainty that the individual has an annual income of over 50,000 dollars, (1=True, 0=False)\n"
      ]
    },
    {
      "cell_type": "markdown",
      "metadata": {
        "id": "pYNLdCTi0zY1",
        "colab_type": "text"
      },
      "source": [
        "# Imports and constants\n",
        "First we'll import our libraries and set up some strings for column names. We also print out the version of TensorFlow we are running."
      ]
    },
    {
      "cell_type": "code",
      "metadata": {
        "id": "43_TlXpB0zY2",
        "colab_type": "code",
        "colab": {
          "base_uri": "https://localhost:8080/",
          "height": 181
        },
        "outputId": "a0897d40-a412-4b57-a22c-545d6328c17f"
      },
      "source": [
        "from __future__ import absolute_import\n",
        "from __future__ import division\n",
        "from __future__ import print_function\n",
        "\n",
        "import time\n",
        "%tensorflow_version 1.x\n",
        "import tensorflow as tf\n",
        "\n",
        "# tf.logging.set_verbosity(tf.logging.INFO) # Set to INFO for tracking training, default is WARN. ERROR for least messages\n",
        "\n",
        "print(\"Using TensorFlow version %s\\n\" % (tf.__version__))\n",
        "\n",
        "\n",
        "CONTINUOUS_COLUMNS =  [\"I\"+str(i) for i in range(1,14)] # 1-13 inclusive\n",
        "CATEGORICAL_COLUMNS = [\"C\"+str(i) for i in range(1,27)] # 1-26 inclusive\n",
        "LABEL_COLUMN = [\"clicked\"]\n",
        "\n",
        "TRAIN_DATA_COLUMNS = LABEL_COLUMN + CONTINUOUS_COLUMNS + CATEGORICAL_COLUMNS\n",
        "# TEST_DATA_COLUMNS = CONTINUOUS_COLUMNS + CATEGORICAL_COLUMNS\n",
        "\n",
        "FEATURE_COLUMNS = CONTINUOUS_COLUMNS + CATEGORICAL_COLUMNS\n",
        "\n",
        "print('Feature columns are: ', FEATURE_COLUMNS, '\\n')\n",
        "\n",
        " # label is 1\n",
        "sample = [ 0, 2, 11, 5, 10262, 34, 2, 4, 5, 0, 1, 0, 5, \"be589b51\", \"287130e0\", \"cd7a7a22\", \"fb7334df\", \"25c83c98\",\"0\" , \"6cdb3998\", \"361384ce\", \"a73ee510\", \"3ff10fb2\", \"5874c9c9\", \"976cbd4c\", \"740c210d\", \"1adce6ef\", \"310d155b\", \"07eb8110\", \"07c540c4\", \"891589e7\", \"18259a83\", \"a458ea53\", \"a0ab60ca\",\"0\" , \"32c7478e\", \"a052b1ed\", \"9b3e8820\", \"8967c0d2\"]\n",
        "print(\"len(sample):{}\".format(len(sample)))\n",
        "\n",
        "# label is 1\n",
        "sample = [ 0, 127, 1, 3, 1683, 19, 26, 17, 475, 0, 9, 0, 3, \"05db9164\", \"8947f767\", \"11c9d79e\", \"52a787c8\", \"4cf72387\", \"fbad5c96\", \"18671b18\", \"0b153874\", \"a73ee510\", \"ceb10289\", \"77212bd7\", \"79507c6b\", \"7203f04e\", \"07d13a8f\", \"2c14c412\", \"49013ffe\", \"8efede7f\", \"bd17c3da\", \"f6a3e43b\", \"a458ea53\", \"35cd95c9\", \"ad3062eb\", \"c7dc6720\", \"3fdb382b\", \"010f6491\", \"49d68486\"]\n",
        "print(\"len(sample):{}\".format(len(sample)))\n",
        "\n",
        "print('Columns and data as a dict: ', dict(zip(FEATURE_COLUMNS, sample)), '\\n')"
      ],
      "execution_count": 4,
      "outputs": [
        {
          "output_type": "stream",
          "text": [
            "Using TensorFlow version 1.15.0\n",
            "\n",
            "Feature columns are:  ['I1', 'I2', 'I3', 'I4', 'I5', 'I6', 'I7', 'I8', 'I9', 'I10', 'I11', 'I12', 'I13', 'C1', 'C2', 'C3', 'C4', 'C5', 'C6', 'C7', 'C8', 'C9', 'C10', 'C11', 'C12', 'C13', 'C14', 'C15', 'C16', 'C17', 'C18', 'C19', 'C20', 'C21', 'C22', 'C23', 'C24', 'C25', 'C26'] \n",
            "\n",
            "len(sample):39\n",
            "len(sample):39\n",
            "Columns and data as a dict:  {'I1': 0, 'I2': 127, 'I3': 1, 'I4': 3, 'I5': 1683, 'I6': 19, 'I7': 26, 'I8': 17, 'I9': 475, 'I10': 0, 'I11': 9, 'I12': 0, 'I13': 3, 'C1': '05db9164', 'C2': '8947f767', 'C3': '11c9d79e', 'C4': '52a787c8', 'C5': '4cf72387', 'C6': 'fbad5c96', 'C7': '18671b18', 'C8': '0b153874', 'C9': 'a73ee510', 'C10': 'ceb10289', 'C11': '77212bd7', 'C12': '79507c6b', 'C13': '7203f04e', 'C14': '07d13a8f', 'C15': '2c14c412', 'C16': '49013ffe', 'C17': '8efede7f', 'C18': 'bd17c3da', 'C19': 'f6a3e43b', 'C20': 'a458ea53', 'C21': '35cd95c9', 'C22': 'ad3062eb', 'C23': 'c7dc6720', 'C24': '3fdb382b', 'C25': '010f6491', 'C26': '49d68486'} \n",
            "\n"
          ],
          "name": "stdout"
        }
      ]
    },
    {
      "cell_type": "markdown",
      "metadata": {
        "id": "8NozJz2p0zY5",
        "colab_type": "text"
      },
      "source": [
        "# Input file parsing\n",
        "\n",
        "This section puts the file into a `Reader` which reads from the file one batch at a time. \n",
        "\n",
        "We set up the Tensors to be a dictionary of features mapping from their string name to the tensor value.\n",
        "\n",
        "Note that the `_input_fn()` function is wrapped, enabling it to be used for different files.\n",
        "\n",
        "NOTE: This reads from the input file directly via TensorFlow, rather than using an intermediate tool such as pandas to load the entire dataset into memory first. This is done to enable the system to scale to large inputs."
      ]
    },
    {
      "cell_type": "markdown",
      "metadata": {
        "id": "wkDgp4IJ0zY6",
        "colab_type": "text"
      },
      "source": [
        "## More about input functions\n",
        "\n",
        "The input function is how we will feed the input data into the model during training and evaluation. \n",
        "The structure that must be returned is a pair, where the first element is a dict of the column names (features) mapped to a tensor of values, and the 2nd element is a tensor of values representing the answers (labels). Recall that a tensor is just a general term for an n-dimensional array.\n",
        "\n",
        "This could be represented as: `map(column_name => [Tensor of values]) , [Tensor of labels])`\n",
        "\n",
        "More concretely, for this particular dataset, something like this:\n",
        "\n",
        "    { \n",
        "      'age':            [ 39, 50, 38, 53, 28, … ], \n",
        "      'marital_status': [ 'Married-civ-spouse', 'Never-married', 'Widowed', 'Widowed' … ],\n",
        "       ...\n",
        "      'gender':           ['Male', 'Female', 'Male', 'Male', 'Female',, … ], \n",
        "    } , \n",
        "    [ 1, 1, 0, 1, 1, 1, 0, 0, 0, 0, 1, 1]\n",
        "    \n",
        "Additionally, we define which columns of the input data we will treat as categorical vs continuous, using the global `CATEGORICAL_COLUMNS`.\n",
        "\n",
        "You can try different values for `BATCH_SIZE` to see how they impact your results"
      ]
    },
    {
      "cell_type": "markdown",
      "metadata": {
        "id": "WNruR3Ft0zY7",
        "colab_type": "text"
      },
      "source": [
        "### High-level structure of input functions for CSV-style data\n",
        "1. Queue file(s)\n",
        "2. Read a batch of data from the next file\n",
        "3. Create record defaults, generally 0 for continuous values, and \"\" for categorical. You can use named types if you prefer\n",
        "4. Decode the CSV and restructure it to be appropriate for the graph's input format\n",
        "    * `zip()` column headers with the data\n",
        "    * `pop()` off the label column(s)\n",
        "    * Remove/pop any unneeded column(s)\n",
        "    * Run `tf.expand_dims()` on categorical columns\n",
        "    5. Return the pair: `(feature_dict, label_array)`\n",
        "    "
      ]
    },
    {
      "cell_type": "code",
      "metadata": {
        "id": "b_9hSU6I0zY8",
        "colab_type": "code",
        "colab": {
          "base_uri": "https://localhost:8080/",
          "height": 35
        },
        "outputId": "55ce8eb8-3faa-49f3-897c-2e2341c6d60f"
      },
      "source": [
        "BATCH_SIZE = 400\n",
        "\n",
        "def generate_input_fn(filename, batch_size=BATCH_SIZE):\n",
        "    def _input_fn():\n",
        "        filename_queue = tf.train.string_input_producer([filename])\n",
        "        reader = tf.TextLineReader()\n",
        "        # Reads out batch_size number of lines\n",
        "        key, value = reader.read_up_to(filename_queue, num_records=batch_size)\n",
        "        \n",
        "        # 1 int label, 13 ints, 26 strings\n",
        "        cont_defaults = [ [0] for i in range(1,14) ]\n",
        "        cate_defaults = [ [\" \"] for i in range(1,27) ]\n",
        "        label_defaults = [ [0] ]\n",
        "        column_headers = TRAIN_DATA_COLUMNS\n",
        "        # The label is the first column of the data.\n",
        "        record_defaults = label_defaults + cont_defaults + cate_defaults\n",
        "\n",
        "        # Decode CSV data that was just read out. \n",
        "        # Note that this does NOT return a dict, \n",
        "        # so we will need to zip it up with our headers\n",
        "        columns = tf.decode_csv(\n",
        "            value, record_defaults=record_defaults)\n",
        "        \n",
        "        # all_columns is a dictionary that maps from column names to tensors of the data.\n",
        "        all_columns = dict(zip(column_headers, columns))\n",
        "        \n",
        "        # Pop and save our labels \n",
        "        # dict.pop() returns the popped array of values; exactly what we need!\n",
        "        labels = all_columns.pop(LABEL_COLUMN[0])\n",
        "        \n",
        "        # the remaining columns are our features\n",
        "        features = all_columns \n",
        "\n",
        "        # Sparse categorical features must be represented with an additional dimension. \n",
        "        # There is no additional work needed for the Continuous columns; they are the unaltered columns.\n",
        "        # See docs for tf.SparseTensor for more info\n",
        "        for feature_name in CATEGORICAL_COLUMNS:\n",
        "            features[feature_name] = tf.expand_dims(features[feature_name], -1)\n",
        "\n",
        "        return features, labels\n",
        "\n",
        "    return _input_fn\n",
        "\n",
        "print('input function configured')"
      ],
      "execution_count": 5,
      "outputs": [
        {
          "output_type": "stream",
          "text": [
            "input function configured\n"
          ],
          "name": "stdout"
        }
      ]
    },
    {
      "cell_type": "markdown",
      "metadata": {
        "id": "IDDsgVQT0zY_",
        "colab_type": "text"
      },
      "source": [
        "# Create Feature Columns\n",
        "This section configures the model with the information about the model. There are many parameters here to experiment with to see how they affect the accuracy.\n",
        "\n",
        "This is the bulk of the time and energy that is often spent on making a machine learning model work, called *feature selection* or *feature engineering*. We choose the features (columns) we will use for training, and apply any additional transformations to them as needed. "
      ]
    },
    {
      "cell_type": "markdown",
      "metadata": {
        "id": "5SdUyvN00zZA",
        "colab_type": "text"
      },
      "source": [
        "### Sparse Columns\n",
        "First we build the sparse columns.\n",
        "\n",
        "Use `sparse_column_with_keys()` for columns that we know all possible values for.\n",
        "\n",
        "Use `sparse_column_with_hash_bucket()` for columns that we want the the library to automatically map values for us."
      ]
    },
    {
      "cell_type": "code",
      "metadata": {
        "scrolled": true,
        "id": "22N1gn1f0zZB",
        "colab_type": "code",
        "colab": {
          "base_uri": "https://localhost:8080/",
          "height": 179
        },
        "outputId": "b5497b56-c26e-4d33-e547-50e8b3a46625"
      },
      "source": [
        "# Sparse base columns.\n",
        "# C1 = tf.contrib.layers.sparse_column_with_hash_bucket('C1', hash_bucket_size=1000)\n",
        "# C2 = tf.contrib.layers.sparse_column_with_hash_bucket('C2', hash_bucket_size=1000)\n",
        "# C3 = tf.contrib.layers.sparse_column_with_hash_bucket('C3', hash_bucket_size=1000)\n",
        "# ...\n",
        "# Cn = tf.contrib.layers.sparse_column_with_hash_bucket('Cn', hash_bucket_size=1000)\n",
        "# wide_columns = [C1, C2, C3, ... , Cn]\n",
        "\n",
        "wide_columns = []\n",
        "for name in CATEGORICAL_COLUMNS:\n",
        "    wide_columns.append(tf.contrib.layers.sparse_column_with_hash_bucket(\n",
        "            name, hash_bucket_size=1000))\n",
        "\n",
        "print('Wide/Sparse columns configured')"
      ],
      "execution_count": 6,
      "outputs": [
        {
          "output_type": "stream",
          "text": [
            "WARNING:tensorflow:\n",
            "The TensorFlow contrib module will not be included in TensorFlow 2.0.\n",
            "For more information, please see:\n",
            "  * https://github.com/tensorflow/community/blob/master/rfcs/20180907-contrib-sunset.md\n",
            "  * https://github.com/tensorflow/addons\n",
            "  * https://github.com/tensorflow/io (for I/O related ops)\n",
            "If you depend on functionality not listed there, please file an issue.\n",
            "\n",
            "Wide/Sparse columns configured\n"
          ],
          "name": "stdout"
        }
      ]
    },
    {
      "cell_type": "markdown",
      "metadata": {
        "id": "lfZ8p21L0zZE",
        "colab_type": "text"
      },
      "source": [
        "### Continuous columns\n",
        "Second, configure the real-valued columns using `real_valued_column()`. "
      ]
    },
    {
      "cell_type": "code",
      "metadata": {
        "id": "ecWl8Sol0zZE",
        "colab_type": "code",
        "colab": {
          "base_uri": "https://localhost:8080/",
          "height": 35
        },
        "outputId": "8a61ff09-52e0-49a1-ef2e-bc97f562a6e2"
      },
      "source": [
        "# Continuous base columns.\n",
        "# I1 = tf.contrib.layers.real_valued_column(\"I1\")\n",
        "# I2 = tf.contrib.layers.real_valued_column(\"I2\")\n",
        "# I3 = tf.contrib.layers.real_valued_column(\"I3\")\n",
        "# ...\n",
        "# In = tf.contrib.layers.real_valued_column(\"In\")\n",
        "# deep_columns = [I1, I2, I3, ... , In]\n",
        "\n",
        "deep_columns = []\n",
        "for name in CONTINUOUS_COLUMNS:\n",
        "    deep_columns.append(tf.contrib.layers.real_valued_column(name))\n",
        "\n",
        "print('deep/continuous columns configured')"
      ],
      "execution_count": 9,
      "outputs": [
        {
          "output_type": "stream",
          "text": [
            "deep/continuous columns configured\n"
          ],
          "name": "stdout"
        }
      ]
    },
    {
      "cell_type": "markdown",
      "metadata": {
        "id": "d9ZxaHLS0zZH",
        "colab_type": "text"
      },
      "source": [
        "### Transformations\n",
        "Now for the interesting stuff. We will employ a couple of techniques to get even more out of the data.\n",
        " \n",
        "* **bucketizing** turns what would have otherwise been a continuous feature into a categorical one. \n",
        "* **feature crossing** allows us to compute a model weight for specific pairings across columns, rather than learning them as independently. This essentially encodes related columns together, for situations where having 2 (or more) columns being certain values is meaningful. \n",
        "\n",
        "Only categorical features can be crossed. This is one reason why age has been bucketized.\n",
        "\n",
        "For example, crossing education and occupation would enable the model to learn about: \n",
        "\n",
        "    education=\"Bachelors\" AND occupation=\"Exec-managerial\"\n",
        "\n",
        "or perhaps \n",
        "\n",
        "    education=\"Bachelors\" AND occupation=\"Craft-repair\"\n",
        "\n",
        "We do a few combined features (feature crosses) here. \n",
        "\n",
        "Add your own, based on your intuitions about the dataset, to try to improve on the model!"
      ]
    },
    {
      "cell_type": "code",
      "metadata": {
        "id": "cbXzDHNH0zZI",
        "colab_type": "code",
        "colab": {
          "base_uri": "https://localhost:8080/",
          "height": 35
        },
        "outputId": "3ddb2a4b-6f4b-43aa-df63-ed87345c118c"
      },
      "source": [
        "# No known Transformations. Can add some if desired. \n",
        "# Examples from other datasets are shown below.\n",
        "\n",
        "# age_buckets = tf.contrib.layers.bucketized_column(age,\n",
        "#             boundaries=[ 18, 25, 30, 35, 40, 45, 50, 55, 60, 65 ])\n",
        "# education_occupation = tf.contrib.layers.crossed_column([education, occupation], \n",
        "#                                                         hash_bucket_size=int(1e4))\n",
        "# age_race_occupation = tf.contrib.layers.crossed_column([age_buckets, race, occupation], \n",
        "#                                                        hash_bucket_size=int(1e6))\n",
        "# country_occupation = tf.contrib.layers.crossed_column([native_country, occupation], \n",
        "#                                                       hash_bucket_size=int(1e4))\n",
        "\n",
        "print('Transformations complete')"
      ],
      "execution_count": 10,
      "outputs": [
        {
          "output_type": "stream",
          "text": [
            "Transformations complete\n"
          ],
          "name": "stdout"
        }
      ]
    },
    {
      "cell_type": "markdown",
      "metadata": {
        "id": "K7YDodKj0zZM",
        "colab_type": "text"
      },
      "source": [
        "### Group feature columns into 2 objects\n",
        "\n",
        "The wide columns are the sparse, categorical columns that we specified, as well as our hashed, bucket, and feature crossed columns. \n",
        "\n",
        "The deep columns are composed of embedded categorical columns along with the continuous real-valued columns. **Column embeddings** transform a sparse, categorical tensor into a low-dimensional and dense real-valued vector. The embedding values are also trained along with the rest of the model. For more information about embeddings, see the TensorFlow tutorial on [Vector Representations Words](https://www.tensorflow.org/tutorials/word2vec/), or [Word Embedding](https://en.wikipedia.org/wiki/Word_embedding) on Wikipedia.\n",
        "\n",
        "The higher the dimension of the embedding is, the more degrees of freedom the model will have to learn the representations of the features. We are starting with an 8-dimension embedding for simplicity, but later you can come back and increase the dimensionality if you wish.\n",
        "\n"
      ]
    },
    {
      "cell_type": "code",
      "metadata": {
        "scrolled": true,
        "id": "shEadHqh0zZN",
        "colab_type": "code",
        "colab": {
          "base_uri": "https://localhost:8080/",
          "height": 523
        },
        "outputId": "4f2f28ba-90c8-4668-80e2-92b9f9ede2de"
      },
      "source": [
        "# Wide columns and deep columns.\n",
        "# wide_columns = [gender, race, native_country,\n",
        "#       education, occupation, workclass,\n",
        "#       marital_status, relationship,\n",
        "#       age_buckets, education_occupation,\n",
        "#       age_race_occupation, country_occupation]\n",
        "\n",
        "# deep_columns = [\n",
        "#   tf.contrib.layers.embedding_column(workclass, dimension=8),\n",
        "#   tf.contrib.layers.embedding_column(education, dimension=8),\n",
        "#   tf.contrib.layers.embedding_column(marital_status, dimension=8),\n",
        "#   tf.contrib.layers.embedding_column(gender, dimension=8),\n",
        "#   tf.contrib.layers.embedding_column(relationship, dimension=8),\n",
        "#   tf.contrib.layers.embedding_column(race, dimension=8),\n",
        "#   tf.contrib.layers.embedding_column(native_country, dimension=8),\n",
        "#   tf.contrib.layers.embedding_column(occupation, dimension=8),\n",
        "#   age,\n",
        "#   education_num,\n",
        "#   capital_gain,\n",
        "#   capital_loss,\n",
        "#   hours_per_week,\n",
        "# ]\n",
        "\n",
        "# Embeddings for wide columns into deep columns\n",
        "for col in wide_columns:\n",
        "    deep_columns.append(tf.contrib.layers.embedding_column(col, \n",
        "                                                           dimension=8))\n",
        "\n",
        "print('wide and deep columns configured')"
      ],
      "execution_count": 11,
      "outputs": [
        {
          "output_type": "stream",
          "text": [
            "WARNING:tensorflow:The default stddev value of initializer was changed from \"1/sqrt(vocab_size)\" to \"1/sqrt(dimension)\" in core implementation (tf.feature_column.embedding_column).\n",
            "WARNING:tensorflow:The default stddev value of initializer was changed from \"1/sqrt(vocab_size)\" to \"1/sqrt(dimension)\" in core implementation (tf.feature_column.embedding_column).\n",
            "WARNING:tensorflow:The default stddev value of initializer was changed from \"1/sqrt(vocab_size)\" to \"1/sqrt(dimension)\" in core implementation (tf.feature_column.embedding_column).\n",
            "WARNING:tensorflow:The default stddev value of initializer was changed from \"1/sqrt(vocab_size)\" to \"1/sqrt(dimension)\" in core implementation (tf.feature_column.embedding_column).\n",
            "WARNING:tensorflow:The default stddev value of initializer was changed from \"1/sqrt(vocab_size)\" to \"1/sqrt(dimension)\" in core implementation (tf.feature_column.embedding_column).\n",
            "WARNING:tensorflow:The default stddev value of initializer was changed from \"1/sqrt(vocab_size)\" to \"1/sqrt(dimension)\" in core implementation (tf.feature_column.embedding_column).\n",
            "WARNING:tensorflow:The default stddev value of initializer was changed from \"1/sqrt(vocab_size)\" to \"1/sqrt(dimension)\" in core implementation (tf.feature_column.embedding_column).\n",
            "WARNING:tensorflow:The default stddev value of initializer was changed from \"1/sqrt(vocab_size)\" to \"1/sqrt(dimension)\" in core implementation (tf.feature_column.embedding_column).\n",
            "WARNING:tensorflow:The default stddev value of initializer was changed from \"1/sqrt(vocab_size)\" to \"1/sqrt(dimension)\" in core implementation (tf.feature_column.embedding_column).\n",
            "WARNING:tensorflow:The default stddev value of initializer was changed from \"1/sqrt(vocab_size)\" to \"1/sqrt(dimension)\" in core implementation (tf.feature_column.embedding_column).\n",
            "WARNING:tensorflow:The default stddev value of initializer was changed from \"1/sqrt(vocab_size)\" to \"1/sqrt(dimension)\" in core implementation (tf.feature_column.embedding_column).\n",
            "WARNING:tensorflow:The default stddev value of initializer was changed from \"1/sqrt(vocab_size)\" to \"1/sqrt(dimension)\" in core implementation (tf.feature_column.embedding_column).\n",
            "WARNING:tensorflow:The default stddev value of initializer was changed from \"1/sqrt(vocab_size)\" to \"1/sqrt(dimension)\" in core implementation (tf.feature_column.embedding_column).\n",
            "WARNING:tensorflow:The default stddev value of initializer was changed from \"1/sqrt(vocab_size)\" to \"1/sqrt(dimension)\" in core implementation (tf.feature_column.embedding_column).\n",
            "WARNING:tensorflow:The default stddev value of initializer was changed from \"1/sqrt(vocab_size)\" to \"1/sqrt(dimension)\" in core implementation (tf.feature_column.embedding_column).\n",
            "WARNING:tensorflow:The default stddev value of initializer was changed from \"1/sqrt(vocab_size)\" to \"1/sqrt(dimension)\" in core implementation (tf.feature_column.embedding_column).\n",
            "WARNING:tensorflow:The default stddev value of initializer was changed from \"1/sqrt(vocab_size)\" to \"1/sqrt(dimension)\" in core implementation (tf.feature_column.embedding_column).\n",
            "WARNING:tensorflow:The default stddev value of initializer was changed from \"1/sqrt(vocab_size)\" to \"1/sqrt(dimension)\" in core implementation (tf.feature_column.embedding_column).\n",
            "WARNING:tensorflow:The default stddev value of initializer was changed from \"1/sqrt(vocab_size)\" to \"1/sqrt(dimension)\" in core implementation (tf.feature_column.embedding_column).\n",
            "WARNING:tensorflow:The default stddev value of initializer was changed from \"1/sqrt(vocab_size)\" to \"1/sqrt(dimension)\" in core implementation (tf.feature_column.embedding_column).\n",
            "WARNING:tensorflow:The default stddev value of initializer was changed from \"1/sqrt(vocab_size)\" to \"1/sqrt(dimension)\" in core implementation (tf.feature_column.embedding_column).\n",
            "WARNING:tensorflow:The default stddev value of initializer was changed from \"1/sqrt(vocab_size)\" to \"1/sqrt(dimension)\" in core implementation (tf.feature_column.embedding_column).\n",
            "WARNING:tensorflow:The default stddev value of initializer was changed from \"1/sqrt(vocab_size)\" to \"1/sqrt(dimension)\" in core implementation (tf.feature_column.embedding_column).\n",
            "WARNING:tensorflow:The default stddev value of initializer was changed from \"1/sqrt(vocab_size)\" to \"1/sqrt(dimension)\" in core implementation (tf.feature_column.embedding_column).\n",
            "WARNING:tensorflow:The default stddev value of initializer was changed from \"1/sqrt(vocab_size)\" to \"1/sqrt(dimension)\" in core implementation (tf.feature_column.embedding_column).\n",
            "WARNING:tensorflow:The default stddev value of initializer was changed from \"1/sqrt(vocab_size)\" to \"1/sqrt(dimension)\" in core implementation (tf.feature_column.embedding_column).\n",
            "wide and deep columns configured\n"
          ],
          "name": "stdout"
        }
      ]
    },
    {
      "cell_type": "markdown",
      "metadata": {
        "id": "zEwFnC8A0zZQ",
        "colab_type": "text"
      },
      "source": [
        "# Create the model\n",
        "\n",
        "You can train either a \"wide\" model, a \"deep\" model, or a \"wide and deep\" model, using the classifiers below. Try each one and see what kind of results you get.\n",
        "\n",
        "* **Wide**: Linear Classifier\n",
        "* **Deep**: Deep Neural Net Classifier\n",
        "* **Wide & Deep**: Combined Linear and Deep Classifier\n",
        "\n",
        "The `hidden_units` or `dnn_hidden_units` argument is to specify the size of each layer of the deep portion of the network. For example, `[12, 20, 15]` would create a network with the first layer of size 12, the second layer of size 20, and a third layer of size 15."
      ]
    },
    {
      "cell_type": "code",
      "metadata": {
        "id": "azJipR-n0zZQ",
        "colab_type": "code",
        "colab": {
          "base_uri": "https://localhost:8080/",
          "height": 361
        },
        "outputId": "35f7cb2d-0909-49e0-a333-ac4a68b3f5f2"
      },
      "source": [
        "def create_model_dir(model_type):\n",
        "    # Returns something like models/model_WIDE_AND_DEEP_1493043407\n",
        "    return 'models/model_' + model_type + '_' + str(int(time.time()))\n",
        "\n",
        "# Specify the desired model_dir \n",
        "def get_model(model_type, model_dir):\n",
        "    print(\"Model directory = %s\" % model_dir)\n",
        "    \n",
        "    # There are more options here than shown here. \n",
        "    # We are using this to show additional checkpointing for illustrative purposes.\n",
        "    # In a real system with far more samples, you would \n",
        "    #     likely choose to save checkpoints less frequently.\n",
        "    runconfig = tf.contrib.learn.RunConfig(\n",
        "        save_checkpoints_secs=None,\n",
        "        save_checkpoints_steps = 100,\n",
        "    )\n",
        "    \n",
        "    m = None\n",
        "    \n",
        "    # Linear Classifier\n",
        "    if model_type == 'WIDE':\n",
        "        m = tf.contrib.learn.LinearClassifier(\n",
        "            model_dir=model_dir, \n",
        "            feature_columns=wide_columns)\n",
        "\n",
        "    # Deep Neural Net Classifier\n",
        "    if model_type == 'DEEP':\n",
        "        m = tf.contrib.learn.DNNClassifier(\n",
        "            model_dir=model_dir,\n",
        "            feature_columns=deep_columns,\n",
        "            hidden_units=[100, 50, 25])\n",
        "\n",
        "    # Combined Linear and Deep Classifier\n",
        "    if model_type == 'WIDE_AND_DEEP':\n",
        "        m = tf.contrib.learn.DNNLinearCombinedClassifier(\n",
        "            model_dir=model_dir,\n",
        "            linear_feature_columns=wide_columns,\n",
        "            dnn_feature_columns=deep_columns,\n",
        "            dnn_hidden_units=[100, 70, 50, 25],\n",
        "            config=runconfig)\n",
        "        \n",
        "    print('estimator built')\n",
        "    \n",
        "    return m\n",
        "    \n",
        "\n",
        "MODEL_TYPE = 'WIDE_AND_DEEP'\n",
        "model_dir = create_model_dir(model_type=MODEL_TYPE)\n",
        "m = get_model(model_type=MODEL_TYPE, model_dir=model_dir)"
      ],
      "execution_count": 12,
      "outputs": [
        {
          "output_type": "stream",
          "text": [
            "Model directory = models/model_WIDE_AND_DEEP_1574307468\n",
            "WARNING:tensorflow:From <ipython-input-12-f2cacdb53631>:15: RunConfig.__init__ (from tensorflow.contrib.learn.python.learn.estimators.run_config) is deprecated and will be removed in a future version.\n",
            "Instructions for updating:\n",
            "When switching to tf.estimator.Estimator, use tf.estimator.RunConfig instead.\n",
            "WARNING:tensorflow:From <ipython-input-12-f2cacdb53631>:40: calling DNNLinearCombinedClassifier.__init__ (from tensorflow.contrib.learn.python.learn.estimators.dnn_linear_combined) with fix_global_step_increment_bug=False is deprecated and will be removed after 2017-04-15.\n",
            "Instructions for updating:\n",
            "Please set fix_global_step_increment_bug=True and update training steps in your pipeline. See pydoc for details.\n",
            "WARNING:tensorflow:From /usr/local/lib/python3.6/dist-packages/tensorflow_core/contrib/learn/python/learn/estimators/dnn_linear_combined.py:676: multi_class_head (from tensorflow.contrib.learn.python.learn.estimators.head) is deprecated and will be removed in a future version.\n",
            "Instructions for updating:\n",
            "Please switch to tf.contrib.estimator.*_head.\n",
            "WARNING:tensorflow:From /usr/local/lib/python3.6/dist-packages/tensorflow_core/contrib/learn/python/learn/estimators/estimator.py:1180: BaseEstimator.__init__ (from tensorflow.contrib.learn.python.learn.estimators.estimator) is deprecated and will be removed in a future version.\n",
            "Instructions for updating:\n",
            "Please replace uses of any Estimator from tf.contrib.learn with an Estimator from tf.estimator.*\n",
            "INFO:tensorflow:Using config: {'_task_type': None, '_task_id': 0, '_cluster_spec': <tensorflow.python.training.server_lib.ClusterSpec object at 0x7effff7da7b8>, '_master': '', '_num_ps_replicas': 0, '_num_worker_replicas': 0, '_environment': 'local', '_is_chief': True, '_evaluation_master': '', '_train_distribute': None, '_eval_distribute': None, '_experimental_max_worker_delay_secs': None, '_device_fn': None, '_tf_config': gpu_options {\n",
            "  per_process_gpu_memory_fraction: 1.0\n",
            "}\n",
            ", '_tf_random_seed': None, '_save_summary_steps': 100, '_save_checkpoints_secs': None, '_log_step_count_steps': 100, '_protocol': None, '_session_config': None, '_save_checkpoints_steps': 100, '_keep_checkpoint_max': 5, '_keep_checkpoint_every_n_hours': 10000, '_model_dir': 'models/model_WIDE_AND_DEEP_1574307468', '_session_creation_timeout_secs': 7200}\n",
            "estimator built\n"
          ],
          "name": "stdout"
        }
      ]
    },
    {
      "cell_type": "code",
      "metadata": {
        "id": "8yiaos_g0zZT",
        "colab_type": "code",
        "colab": {
          "base_uri": "https://localhost:8080/",
          "height": 35
        },
        "outputId": "9af2a282-164d-4753-ba85-5d31be1c48d5"
      },
      "source": [
        "# Showing that canned estimators return an instance of 'Evaluable'\n",
        "\n",
        "from tensorflow.contrib.learn.python.learn import evaluable\n",
        "isinstance(m, evaluable.Evaluable)\n"
      ],
      "execution_count": 13,
      "outputs": [
        {
          "output_type": "execute_result",
          "data": {
            "text/plain": [
              "True"
            ]
          },
          "metadata": {
            "tags": []
          },
          "execution_count": 13
        }
      ]
    },
    {
      "cell_type": "markdown",
      "metadata": {
        "id": "zMWMeRc30zZW",
        "colab_type": "text"
      },
      "source": [
        "# Fit the model (train it)\n",
        "\n",
        "Run `fit()` to train the model. You can experiment with the `train_steps` and `BATCH_SIZE` parameters.\n",
        "\n",
        "This can take some time, depending on the values chosen for `train_steps` and `BATCH_SIZE`.\n",
        "\n",
        "Our datafile is hosted on Google Cloud Storage; the reader we created at the beginning knows how to read from it.\n",
        "\n",
        "If you don't want to download a new copy of the dataset each time your script runs, you can download it locally using \n",
        "\n",
        "    gsutil cp gs://dataset-uploader/criteo-kaggle/medium_version/train.csv .\n",
        "    gsutil cp gs://dataset-uploader/criteo-kaggle/medium_version/eval.csv .\n",
        "    \n",
        "If you want to download it manually, use\n",
        "\n",
        "- http://storageapis.google.com/dataset-uploader/criteo-kaggle/medium_version/eval.csv\n",
        "- http://storageapis.google.com/dataset-uploader/criteo-kaggle/medium_version/train.csv"
      ]
    },
    {
      "cell_type": "code",
      "metadata": {
        "id": "52Ma1Kmd0zZX",
        "colab_type": "code",
        "colab": {}
      },
      "source": [
        "# Use the cloud or local depending on your preference\n",
        "\n",
        "# CLOUD\n",
        "train_file = \"gs://dataset-uploader/criteo-kaggle/medium_version/train.csv\"\n",
        "eval_file  = \"gs://dataset-uploader/criteo-kaggle/medium_version/eval.csv\"\n",
        "\n",
        "# LOCAL. Update these paths as appropriate\n",
        "train_file = \"data/wnd/train.csv\"\n",
        "eval_file  = \"data/wnd/eval.csv\"\n"
      ],
      "execution_count": 0,
      "outputs": []
    },
    {
      "cell_type": "code",
      "metadata": {
        "scrolled": true,
        "id": "JQmg2xCw0zZa",
        "colab_type": "code",
        "colab": {
          "base_uri": "https://localhost:8080/",
          "height": 1000
        },
        "outputId": "57c75b87-987f-4a5c-d63f-04f46dfbfa8c"
      },
      "source": [
        "%%time\n",
        "\n",
        "# This can be found with\n",
        "# wc -l train.csv\n",
        "train_sample_size = 800000\n",
        "train_steps = train_sample_size/BATCH_SIZE # 8000/40 = 200\n",
        "\n",
        "m.fit(input_fn=generate_input_fn(train_file, BATCH_SIZE), steps=train_steps)\n",
        "\n",
        "print('fit done')"
      ],
      "execution_count": 15,
      "outputs": [
        {
          "output_type": "stream",
          "text": [
            "WARNING:tensorflow:From <ipython-input-5-7b6e08de6b32>:5: string_input_producer (from tensorflow.python.training.input) is deprecated and will be removed in a future version.\n",
            "Instructions for updating:\n",
            "Queue-based input pipelines have been replaced by `tf.data`. Use `tf.data.Dataset.from_tensor_slices(string_tensor).shuffle(tf.shape(input_tensor, out_type=tf.int64)[0]).repeat(num_epochs)`. If `shuffle=False`, omit the `.shuffle(...)`.\n",
            "WARNING:tensorflow:From /usr/local/lib/python3.6/dist-packages/tensorflow_core/python/training/input.py:277: input_producer (from tensorflow.python.training.input) is deprecated and will be removed in a future version.\n",
            "Instructions for updating:\n",
            "Queue-based input pipelines have been replaced by `tf.data`. Use `tf.data.Dataset.from_tensor_slices(input_tensor).shuffle(tf.shape(input_tensor, out_type=tf.int64)[0]).repeat(num_epochs)`. If `shuffle=False`, omit the `.shuffle(...)`.\n",
            "WARNING:tensorflow:From /usr/local/lib/python3.6/dist-packages/tensorflow_core/python/training/input.py:189: limit_epochs (from tensorflow.python.training.input) is deprecated and will be removed in a future version.\n",
            "Instructions for updating:\n",
            "Queue-based input pipelines have been replaced by `tf.data`. Use `tf.data.Dataset.from_tensors(tensor).repeat(num_epochs)`.\n",
            "WARNING:tensorflow:From /usr/local/lib/python3.6/dist-packages/tensorflow_core/python/training/input.py:198: QueueRunner.__init__ (from tensorflow.python.training.queue_runner_impl) is deprecated and will be removed in a future version.\n",
            "Instructions for updating:\n",
            "To construct input pipelines, use the `tf.data` module.\n",
            "WARNING:tensorflow:From /usr/local/lib/python3.6/dist-packages/tensorflow_core/python/training/input.py:198: add_queue_runner (from tensorflow.python.training.queue_runner_impl) is deprecated and will be removed in a future version.\n",
            "Instructions for updating:\n",
            "To construct input pipelines, use the `tf.data` module.\n",
            "WARNING:tensorflow:From <ipython-input-5-7b6e08de6b32>:6: TextLineReader.__init__ (from tensorflow.python.ops.io_ops) is deprecated and will be removed in a future version.\n",
            "Instructions for updating:\n",
            "Queue-based input pipelines have been replaced by `tf.data`. Use `tf.data.TextLineDataset`.\n",
            "WARNING:tensorflow:From /usr/local/lib/python3.6/dist-packages/tensorflow_core/python/training/training_util.py:236: Variable.initialized_value (from tensorflow.python.ops.variables) is deprecated and will be removed in a future version.\n",
            "Instructions for updating:\n",
            "Use Variable.read_value. Variables in 2.X are initialized automatically both in eager and graph (inside tf.defun) contexts.\n",
            "WARNING:tensorflow:From /usr/local/lib/python3.6/dist-packages/tensorflow_core/contrib/layers/python/ops/sparse_ops.py:74: where (from tensorflow.python.ops.array_ops) is deprecated and will be removed in a future version.\n",
            "Instructions for updating:\n",
            "Use tf.where in 2.0, which has the same broadcast rule as np.where\n",
            "WARNING:tensorflow:Rank of input Tensor (1) should be the same as output_rank (2) for column. Will attempt to expand dims. It is highly recommended that you resize your input, as this behavior may change.\n",
            "WARNING:tensorflow:Rank of input Tensor (1) should be the same as output_rank (2) for column. Will attempt to expand dims. It is highly recommended that you resize your input, as this behavior may change.\n",
            "WARNING:tensorflow:Rank of input Tensor (1) should be the same as output_rank (2) for column. Will attempt to expand dims. It is highly recommended that you resize your input, as this behavior may change.\n",
            "WARNING:tensorflow:Rank of input Tensor (1) should be the same as output_rank (2) for column. Will attempt to expand dims. It is highly recommended that you resize your input, as this behavior may change.\n",
            "WARNING:tensorflow:Rank of input Tensor (1) should be the same as output_rank (2) for column. Will attempt to expand dims. It is highly recommended that you resize your input, as this behavior may change.\n",
            "WARNING:tensorflow:Rank of input Tensor (1) should be the same as output_rank (2) for column. Will attempt to expand dims. It is highly recommended that you resize your input, as this behavior may change.\n",
            "WARNING:tensorflow:Rank of input Tensor (1) should be the same as output_rank (2) for column. Will attempt to expand dims. It is highly recommended that you resize your input, as this behavior may change.\n",
            "WARNING:tensorflow:Rank of input Tensor (1) should be the same as output_rank (2) for column. Will attempt to expand dims. It is highly recommended that you resize your input, as this behavior may change.\n",
            "WARNING:tensorflow:Rank of input Tensor (1) should be the same as output_rank (2) for column. Will attempt to expand dims. It is highly recommended that you resize your input, as this behavior may change.\n",
            "WARNING:tensorflow:Rank of input Tensor (1) should be the same as output_rank (2) for column. Will attempt to expand dims. It is highly recommended that you resize your input, as this behavior may change.\n",
            "WARNING:tensorflow:Rank of input Tensor (1) should be the same as output_rank (2) for column. Will attempt to expand dims. It is highly recommended that you resize your input, as this behavior may change.\n",
            "WARNING:tensorflow:Rank of input Tensor (1) should be the same as output_rank (2) for column. Will attempt to expand dims. It is highly recommended that you resize your input, as this behavior may change.\n",
            "WARNING:tensorflow:Rank of input Tensor (1) should be the same as output_rank (2) for column. Will attempt to expand dims. It is highly recommended that you resize your input, as this behavior may change.\n",
            "WARNING:tensorflow:From /usr/local/lib/python3.6/dist-packages/tensorflow_core/contrib/layers/python/layers/layers.py:1866: Layer.apply (from tensorflow.python.keras.engine.base_layer) is deprecated and will be removed in a future version.\n",
            "Instructions for updating:\n",
            "Please use `layer.__call__` method instead.\n",
            "WARNING:tensorflow:From /usr/local/lib/python3.6/dist-packages/tensorflow_core/python/training/adagrad.py:76: calling Constant.__init__ (from tensorflow.python.ops.init_ops) with dtype is deprecated and will be removed in a future version.\n",
            "Instructions for updating:\n",
            "Call initializer instance with the dtype argument instead of passing it to the constructor\n",
            "WARNING:tensorflow:Casting <dtype: 'int32'> labels to bool.\n",
            "WARNING:tensorflow:From /usr/local/lib/python3.6/dist-packages/tensorflow_core/python/ops/metrics_impl.py:808: div (from tensorflow.python.ops.math_ops) is deprecated and will be removed in a future version.\n",
            "Instructions for updating:\n",
            "Deprecated in favor of operator or tf.math.divide.\n",
            "WARNING:tensorflow:Casting <dtype: 'int32'> labels to bool.\n",
            "WARNING:tensorflow:Trapezoidal rule is known to produce incorrect PR-AUCs; please switch to \"careful_interpolation\" instead.\n",
            "WARNING:tensorflow:Trapezoidal rule is known to produce incorrect PR-AUCs; please switch to \"careful_interpolation\" instead.\n",
            "WARNING:tensorflow:From /usr/local/lib/python3.6/dist-packages/tensorflow_core/contrib/learn/python/learn/estimators/head.py:678: ModelFnOps.__new__ (from tensorflow.contrib.learn.python.learn.estimators.model_fn) is deprecated and will be removed in a future version.\n",
            "Instructions for updating:\n",
            "When switching to tf.estimator.Estimator, use tf.estimator.EstimatorSpec. You can use the `estimator_spec` method to create an equivalent one.\n",
            "INFO:tensorflow:Create CheckpointSaverHook.\n",
            "INFO:tensorflow:Graph was finalized.\n",
            "INFO:tensorflow:Running local_init_op.\n",
            "INFO:tensorflow:Done running local_init_op.\n",
            "WARNING:tensorflow:From /usr/local/lib/python3.6/dist-packages/tensorflow_core/python/training/monitored_session.py:882: start_queue_runners (from tensorflow.python.training.queue_runner_impl) is deprecated and will be removed in a future version.\n",
            "Instructions for updating:\n",
            "To construct input pipelines, use the `tf.data` module.\n",
            "INFO:tensorflow:Saving checkpoints for 0 into models/model_WIDE_AND_DEEP_1574307468/model.ckpt.\n",
            "INFO:tensorflow:loss = 18.717703, step = 2\n",
            "INFO:tensorflow:Saving checkpoints for 102 into models/model_WIDE_AND_DEEP_1574307468/model.ckpt.\n",
            "INFO:tensorflow:global_step/sec: 13.8749\n",
            "INFO:tensorflow:loss = 0.6864082, step = 202 (11.102 sec)\n",
            "INFO:tensorflow:Saving checkpoints for 204 into models/model_WIDE_AND_DEEP_1574307468/model.ckpt.\n",
            "INFO:tensorflow:global_step/sec: 22.9977\n",
            "INFO:tensorflow:Saving checkpoints for 306 into models/model_WIDE_AND_DEEP_1574307468/model.ckpt.\n",
            "INFO:tensorflow:global_step/sec: 62.2154\n",
            "INFO:tensorflow:loss = 0.4460346, step = 402 (3.226 sec)\n",
            "INFO:tensorflow:Saving checkpoints for 408 into models/model_WIDE_AND_DEEP_1574307468/model.ckpt.\n",
            "INFO:tensorflow:global_step/sec: 63.6981\n",
            "INFO:tensorflow:Saving checkpoints for 510 into models/model_WIDE_AND_DEEP_1574307468/model.ckpt.\n",
            "WARNING:tensorflow:From /usr/local/lib/python3.6/dist-packages/tensorflow_core/python/training/saver.py:963: remove_checkpoint (from tensorflow.python.training.checkpoint_management) is deprecated and will be removed in a future version.\n",
            "Instructions for updating:\n",
            "Use standard file APIs to delete files with this prefix.\n",
            "INFO:tensorflow:global_step/sec: 60.4762\n",
            "INFO:tensorflow:loss = 0.4284254, step = 602 (3.349 sec)\n",
            "INFO:tensorflow:Saving checkpoints for 612 into models/model_WIDE_AND_DEEP_1574307468/model.ckpt.\n",
            "INFO:tensorflow:global_step/sec: 51.9266\n",
            "INFO:tensorflow:Saving checkpoints for 714 into models/model_WIDE_AND_DEEP_1574307468/model.ckpt.\n",
            "INFO:tensorflow:global_step/sec: 56.532\n",
            "INFO:tensorflow:loss = 0.4126004, step = 802 (3.638 sec)\n",
            "INFO:tensorflow:Saving checkpoints for 816 into models/model_WIDE_AND_DEEP_1574307468/model.ckpt.\n",
            "INFO:tensorflow:global_step/sec: 55.9125\n",
            "INFO:tensorflow:Saving checkpoints for 918 into models/model_WIDE_AND_DEEP_1574307468/model.ckpt.\n",
            "INFO:tensorflow:global_step/sec: 62.4193\n",
            "INFO:tensorflow:loss = 0.39763978, step = 1002 (3.456 sec)\n",
            "INFO:tensorflow:Saving checkpoints for 1020 into models/model_WIDE_AND_DEEP_1574307468/model.ckpt.\n",
            "INFO:tensorflow:global_step/sec: 56.8209\n",
            "INFO:tensorflow:Saving checkpoints for 1122 into models/model_WIDE_AND_DEEP_1574307468/model.ckpt.\n",
            "INFO:tensorflow:global_step/sec: 51.6363\n",
            "INFO:tensorflow:loss = 0.38585106, step = 1202 (3.810 sec)\n",
            "INFO:tensorflow:Saving checkpoints for 1224 into models/model_WIDE_AND_DEEP_1574307468/model.ckpt.\n",
            "INFO:tensorflow:global_step/sec: 57.661\n",
            "INFO:tensorflow:Saving checkpoints for 1326 into models/model_WIDE_AND_DEEP_1574307468/model.ckpt.\n",
            "INFO:tensorflow:global_step/sec: 55.9986\n",
            "INFO:tensorflow:loss = 0.3795215, step = 1402 (3.465 sec)\n",
            "INFO:tensorflow:Saving checkpoints for 1428 into models/model_WIDE_AND_DEEP_1574307468/model.ckpt.\n",
            "INFO:tensorflow:global_step/sec: 62.0002\n",
            "INFO:tensorflow:Saving checkpoints for 1530 into models/model_WIDE_AND_DEEP_1574307468/model.ckpt.\n",
            "INFO:tensorflow:global_step/sec: 51.5974\n",
            "INFO:tensorflow:loss = 0.36767265, step = 1602 (3.676 sec)\n",
            "INFO:tensorflow:Saving checkpoints for 1632 into models/model_WIDE_AND_DEEP_1574307468/model.ckpt.\n",
            "INFO:tensorflow:global_step/sec: 56.1998\n",
            "INFO:tensorflow:Saving checkpoints for 1734 into models/model_WIDE_AND_DEEP_1574307468/model.ckpt.\n",
            "INFO:tensorflow:global_step/sec: 53.9059\n",
            "INFO:tensorflow:loss = 0.36588687, step = 1802 (3.677 sec)\n",
            "INFO:tensorflow:Saving checkpoints for 1836 into models/model_WIDE_AND_DEEP_1574307468/model.ckpt.\n",
            "INFO:tensorflow:global_step/sec: 51.9172\n",
            "INFO:tensorflow:Saving checkpoints for 1938 into models/model_WIDE_AND_DEEP_1574307468/model.ckpt.\n",
            "INFO:tensorflow:global_step/sec: 50.2039\n",
            "INFO:tensorflow:loss = 0.36749977, step = 2002 (3.851 sec)\n",
            "INFO:tensorflow:Saving checkpoints for 2002 into models/model_WIDE_AND_DEEP_1574307468/model.ckpt.\n",
            "INFO:tensorflow:Loss for final step: 0.36749977.\n",
            "fit done\n",
            "CPU times: user 1min 5s, sys: 1.43 s, total: 1min 7s\n",
            "Wall time: 1min\n"
          ],
          "name": "stdout"
        }
      ]
    },
    {
      "cell_type": "markdown",
      "metadata": {
        "id": "KMPPf37g0zZd",
        "colab_type": "text"
      },
      "source": [
        "# Evaluate the accuracy of the model\n",
        "Let's see how the model did. We will evaluate all the test data."
      ]
    },
    {
      "cell_type": "code",
      "metadata": {
        "scrolled": true,
        "id": "InGmwtke0zZd",
        "colab_type": "code",
        "colab": {
          "base_uri": "https://localhost:8080/",
          "height": 739
        },
        "outputId": "50e52d0a-2d87-4899-b30b-816419b10c80"
      },
      "source": [
        "%%time\n",
        "\n",
        "eval_sample_size = 2000 # this can be found with a 'wc -l eval.csv'\n",
        "batch_size = 40\n",
        "eval_steps = eval_sample_size/batch_size # 2000/40 = 50\n",
        "\n",
        "results = m.evaluate(input_fn=generate_input_fn(eval_file, batch_size=batch_size), \n",
        "                     steps=eval_steps)\n",
        "print('evaluate done')\n",
        "\n",
        "print('Accuracy: %s' % results['accuracy'])\n",
        "print(results)\n"
      ],
      "execution_count": 16,
      "outputs": [
        {
          "output_type": "stream",
          "text": [
            "WARNING:tensorflow:Rank of input Tensor (1) should be the same as output_rank (2) for column. Will attempt to expand dims. It is highly recommended that you resize your input, as this behavior may change.\n",
            "WARNING:tensorflow:Rank of input Tensor (1) should be the same as output_rank (2) for column. Will attempt to expand dims. It is highly recommended that you resize your input, as this behavior may change.\n",
            "WARNING:tensorflow:Rank of input Tensor (1) should be the same as output_rank (2) for column. Will attempt to expand dims. It is highly recommended that you resize your input, as this behavior may change.\n",
            "WARNING:tensorflow:Rank of input Tensor (1) should be the same as output_rank (2) for column. Will attempt to expand dims. It is highly recommended that you resize your input, as this behavior may change.\n",
            "WARNING:tensorflow:Rank of input Tensor (1) should be the same as output_rank (2) for column. Will attempt to expand dims. It is highly recommended that you resize your input, as this behavior may change.\n",
            "WARNING:tensorflow:Rank of input Tensor (1) should be the same as output_rank (2) for column. Will attempt to expand dims. It is highly recommended that you resize your input, as this behavior may change.\n",
            "WARNING:tensorflow:Rank of input Tensor (1) should be the same as output_rank (2) for column. Will attempt to expand dims. It is highly recommended that you resize your input, as this behavior may change.\n",
            "WARNING:tensorflow:Rank of input Tensor (1) should be the same as output_rank (2) for column. Will attempt to expand dims. It is highly recommended that you resize your input, as this behavior may change.\n",
            "WARNING:tensorflow:Rank of input Tensor (1) should be the same as output_rank (2) for column. Will attempt to expand dims. It is highly recommended that you resize your input, as this behavior may change.\n",
            "WARNING:tensorflow:Rank of input Tensor (1) should be the same as output_rank (2) for column. Will attempt to expand dims. It is highly recommended that you resize your input, as this behavior may change.\n",
            "WARNING:tensorflow:Rank of input Tensor (1) should be the same as output_rank (2) for column. Will attempt to expand dims. It is highly recommended that you resize your input, as this behavior may change.\n",
            "WARNING:tensorflow:Rank of input Tensor (1) should be the same as output_rank (2) for column. Will attempt to expand dims. It is highly recommended that you resize your input, as this behavior may change.\n",
            "WARNING:tensorflow:Rank of input Tensor (1) should be the same as output_rank (2) for column. Will attempt to expand dims. It is highly recommended that you resize your input, as this behavior may change.\n",
            "WARNING:tensorflow:Casting <dtype: 'int32'> labels to bool.\n",
            "WARNING:tensorflow:Casting <dtype: 'int32'> labels to bool.\n",
            "WARNING:tensorflow:Trapezoidal rule is known to produce incorrect PR-AUCs; please switch to \"careful_interpolation\" instead.\n",
            "WARNING:tensorflow:Trapezoidal rule is known to produce incorrect PR-AUCs; please switch to \"careful_interpolation\" instead.\n",
            "INFO:tensorflow:Starting evaluation at 2019-11-21T03:48:07Z\n",
            "INFO:tensorflow:Graph was finalized.\n",
            "INFO:tensorflow:Restoring parameters from models/model_WIDE_AND_DEEP_1574307468/model.ckpt-2002\n",
            "INFO:tensorflow:Running local_init_op.\n",
            "INFO:tensorflow:Done running local_init_op.\n",
            "INFO:tensorflow:Evaluation [5/50]\n",
            "INFO:tensorflow:Evaluation [10/50]\n",
            "INFO:tensorflow:Evaluation [15/50]\n",
            "INFO:tensorflow:Evaluation [20/50]\n",
            "INFO:tensorflow:Evaluation [25/50]\n",
            "INFO:tensorflow:Evaluation [30/50]\n",
            "INFO:tensorflow:Evaluation [35/50]\n",
            "INFO:tensorflow:Evaluation [40/50]\n",
            "INFO:tensorflow:Evaluation [45/50]\n",
            "INFO:tensorflow:Evaluation [50/50]\n",
            "INFO:tensorflow:Finished evaluation at 2019-11-21-03:48:11\n",
            "INFO:tensorflow:Saving dict for global step 2002: accuracy = 0.7825, accuracy/baseline_label_mean = 0.209, accuracy/threshold_0.500000_mean = 0.7825, auc = 0.71700245, auc_precision_recall = 0.3744447, global_step = 2002, labels/actual_label_mean = 0.209, labels/prediction_mean = 0.21532235, loss = 0.47393617, precision/positive_threshold_0.500000_mean = 0.43307087, recall/positive_threshold_0.500000_mean = 0.13157895\n",
            "evaluate done\n",
            "Accuracy: 0.7825\n",
            "{'loss': 0.47393617, 'accuracy': 0.7825, 'labels/prediction_mean': 0.21532235, 'labels/actual_label_mean': 0.209, 'accuracy/baseline_label_mean': 0.209, 'auc': 0.71700245, 'auc_precision_recall': 0.3744447, 'accuracy/threshold_0.500000_mean': 0.7825, 'precision/positive_threshold_0.500000_mean': 0.43307087, 'recall/positive_threshold_0.500000_mean': 0.13157895, 'global_step': 2002}\n",
            "CPU times: user 7.41 s, sys: 63.3 ms, total: 7.48 s\n",
            "Wall time: 7.93 s\n"
          ],
          "name": "stdout"
        }
      ]
    },
    {
      "cell_type": "code",
      "metadata": {
        "id": "0WEA_c3G0zZg",
        "colab_type": "code",
        "colab": {
          "base_uri": "https://localhost:8080/",
          "height": 1000
        },
        "outputId": "5b22ce7e-867a-4f8e-8ec3-1249010a7b0e"
      },
      "source": [
        "def pred_fn():\n",
        "    sample = [ 0, 127, 1, 3, 1683, 19, 26, 17, 475, 0, 9, 0, 3, \"05db9164\", \"8947f767\", \"11c9d79e\", \"52a787c8\", \"4cf72387\", \"fbad5c96\", \"18671b18\", \"0b153874\", \"a73ee510\", \"ceb10289\", \"77212bd7\", \"79507c6b\", \"7203f04e\", \"07d13a8f\", \"2c14c412\", \"49013ffe\", \"8efede7f\", \"bd17c3da\", \"f6a3e43b\", \"a458ea53\", \"35cd95c9\", \"ad3062eb\", \"c7dc6720\", \"3fdb382b\", \"010f6491\", \"49d68486\"]\n",
        "    print(\"len(sample)={}\".format(len(sample)))\n",
        "\n",
        "    sample_dict = dict(zip(FEATURE_COLUMNS, sample))\n",
        "    \n",
        "    for feature_name in CATEGORICAL_COLUMNS:\n",
        "        sample_dict[feature_name] = tf.expand_dims(sample_dict[feature_name], -1)\n",
        "\n",
        "    for feature_name in CONTINUOUS_COLUMNS:\n",
        "        sample_dict[feature_name] = tf.constant(sample_dict[feature_name], shape=(1, 1), dtype=tf.int32)\n",
        "    \n",
        "    print(sample_dict)\n",
        "\n",
        "    return sample_dict\n",
        "\n",
        "# rtn = m.predict(input_fn=pred_fn)\n",
        "rtn = m.predict_classes(input_fn=pred_fn)\n",
        "count = 0\n",
        "while True:\n",
        "  count = count + 1\n",
        "  try:\n",
        "    print(\"count={}, class={}\".format(count, rtn.__next__()))\n",
        "  except StopIteration as e:\n",
        "    break"
      ],
      "execution_count": 32,
      "outputs": [
        {
          "output_type": "stream",
          "text": [
            "len(sample)=39\n",
            "{'I1': <tf.Tensor 'Const:0' shape=(1, 1) dtype=int32>, 'I2': <tf.Tensor 'Const_1:0' shape=(1, 1) dtype=int32>, 'I3': <tf.Tensor 'Const_2:0' shape=(1, 1) dtype=int32>, 'I4': <tf.Tensor 'Const_3:0' shape=(1, 1) dtype=int32>, 'I5': <tf.Tensor 'Const_4:0' shape=(1, 1) dtype=int32>, 'I6': <tf.Tensor 'Const_5:0' shape=(1, 1) dtype=int32>, 'I7': <tf.Tensor 'Const_6:0' shape=(1, 1) dtype=int32>, 'I8': <tf.Tensor 'Const_7:0' shape=(1, 1) dtype=int32>, 'I9': <tf.Tensor 'Const_8:0' shape=(1, 1) dtype=int32>, 'I10': <tf.Tensor 'Const_9:0' shape=(1, 1) dtype=int32>, 'I11': <tf.Tensor 'Const_10:0' shape=(1, 1) dtype=int32>, 'I12': <tf.Tensor 'Const_11:0' shape=(1, 1) dtype=int32>, 'I13': <tf.Tensor 'Const_12:0' shape=(1, 1) dtype=int32>, 'C1': <tf.Tensor 'ExpandDims:0' shape=(1,) dtype=string>, 'C2': <tf.Tensor 'ExpandDims_1:0' shape=(1,) dtype=string>, 'C3': <tf.Tensor 'ExpandDims_2:0' shape=(1,) dtype=string>, 'C4': <tf.Tensor 'ExpandDims_3:0' shape=(1,) dtype=string>, 'C5': <tf.Tensor 'ExpandDims_4:0' shape=(1,) dtype=string>, 'C6': <tf.Tensor 'ExpandDims_5:0' shape=(1,) dtype=string>, 'C7': <tf.Tensor 'ExpandDims_6:0' shape=(1,) dtype=string>, 'C8': <tf.Tensor 'ExpandDims_7:0' shape=(1,) dtype=string>, 'C9': <tf.Tensor 'ExpandDims_8:0' shape=(1,) dtype=string>, 'C10': <tf.Tensor 'ExpandDims_9:0' shape=(1,) dtype=string>, 'C11': <tf.Tensor 'ExpandDims_10:0' shape=(1,) dtype=string>, 'C12': <tf.Tensor 'ExpandDims_11:0' shape=(1,) dtype=string>, 'C13': <tf.Tensor 'ExpandDims_12:0' shape=(1,) dtype=string>, 'C14': <tf.Tensor 'ExpandDims_13:0' shape=(1,) dtype=string>, 'C15': <tf.Tensor 'ExpandDims_14:0' shape=(1,) dtype=string>, 'C16': <tf.Tensor 'ExpandDims_15:0' shape=(1,) dtype=string>, 'C17': <tf.Tensor 'ExpandDims_16:0' shape=(1,) dtype=string>, 'C18': <tf.Tensor 'ExpandDims_17:0' shape=(1,) dtype=string>, 'C19': <tf.Tensor 'ExpandDims_18:0' shape=(1,) dtype=string>, 'C20': <tf.Tensor 'ExpandDims_19:0' shape=(1,) dtype=string>, 'C21': <tf.Tensor 'ExpandDims_20:0' shape=(1,) dtype=string>, 'C22': <tf.Tensor 'ExpandDims_21:0' shape=(1,) dtype=string>, 'C23': <tf.Tensor 'ExpandDims_22:0' shape=(1,) dtype=string>, 'C24': <tf.Tensor 'ExpandDims_23:0' shape=(1,) dtype=string>, 'C25': <tf.Tensor 'ExpandDims_24:0' shape=(1,) dtype=string>, 'C26': <tf.Tensor 'ExpandDims_25:0' shape=(1,) dtype=string>}\n",
            "WARNING:tensorflow:Rank of input Tensor (1) should be the same as output_rank (2) for column. Will attempt to expand dims. It is highly recommended that you resize your input, as this behavior may change.\n",
            "WARNING:tensorflow:Rank of input Tensor (1) should be the same as output_rank (2) for column. Will attempt to expand dims. It is highly recommended that you resize your input, as this behavior may change.\n",
            "WARNING:tensorflow:Rank of input Tensor (1) should be the same as output_rank (2) for column. Will attempt to expand dims. It is highly recommended that you resize your input, as this behavior may change.\n",
            "WARNING:tensorflow:Rank of input Tensor (1) should be the same as output_rank (2) for column. Will attempt to expand dims. It is highly recommended that you resize your input, as this behavior may change.\n",
            "WARNING:tensorflow:Rank of input Tensor (1) should be the same as output_rank (2) for column. Will attempt to expand dims. It is highly recommended that you resize your input, as this behavior may change.\n",
            "WARNING:tensorflow:Rank of input Tensor (1) should be the same as output_rank (2) for column. Will attempt to expand dims. It is highly recommended that you resize your input, as this behavior may change.\n",
            "WARNING:tensorflow:Rank of input Tensor (1) should be the same as output_rank (2) for column. Will attempt to expand dims. It is highly recommended that you resize your input, as this behavior may change.\n",
            "WARNING:tensorflow:Rank of input Tensor (1) should be the same as output_rank (2) for column. Will attempt to expand dims. It is highly recommended that you resize your input, as this behavior may change.\n",
            "WARNING:tensorflow:Rank of input Tensor (1) should be the same as output_rank (2) for column. Will attempt to expand dims. It is highly recommended that you resize your input, as this behavior may change.\n",
            "WARNING:tensorflow:Rank of input Tensor (1) should be the same as output_rank (2) for column. Will attempt to expand dims. It is highly recommended that you resize your input, as this behavior may change.\n",
            "WARNING:tensorflow:Rank of input Tensor (1) should be the same as output_rank (2) for column. Will attempt to expand dims. It is highly recommended that you resize your input, as this behavior may change.\n",
            "WARNING:tensorflow:Rank of input Tensor (1) should be the same as output_rank (2) for column. Will attempt to expand dims. It is highly recommended that you resize your input, as this behavior may change.\n",
            "WARNING:tensorflow:Rank of input Tensor (1) should be the same as output_rank (2) for column. Will attempt to expand dims. It is highly recommended that you resize your input, as this behavior may change.\n",
            "WARNING:tensorflow:Rank of input Tensor (1) should be the same as output_rank (2) for column. Will attempt to expand dims. It is highly recommended that you resize your input, as this behavior may change.\n",
            "WARNING:tensorflow:Rank of input Tensor (1) should be the same as output_rank (2) for column. Will attempt to expand dims. It is highly recommended that you resize your input, as this behavior may change.\n",
            "WARNING:tensorflow:Rank of input Tensor (1) should be the same as output_rank (2) for column. Will attempt to expand dims. It is highly recommended that you resize your input, as this behavior may change.\n",
            "WARNING:tensorflow:Rank of input Tensor (1) should be the same as output_rank (2) for column. Will attempt to expand dims. It is highly recommended that you resize your input, as this behavior may change.\n",
            "WARNING:tensorflow:Rank of input Tensor (1) should be the same as output_rank (2) for column. Will attempt to expand dims. It is highly recommended that you resize your input, as this behavior may change.\n",
            "WARNING:tensorflow:Rank of input Tensor (1) should be the same as output_rank (2) for column. Will attempt to expand dims. It is highly recommended that you resize your input, as this behavior may change.\n",
            "WARNING:tensorflow:Rank of input Tensor (1) should be the same as output_rank (2) for column. Will attempt to expand dims. It is highly recommended that you resize your input, as this behavior may change.\n",
            "WARNING:tensorflow:Rank of input Tensor (1) should be the same as output_rank (2) for column. Will attempt to expand dims. It is highly recommended that you resize your input, as this behavior may change.\n",
            "WARNING:tensorflow:Rank of input Tensor (1) should be the same as output_rank (2) for column. Will attempt to expand dims. It is highly recommended that you resize your input, as this behavior may change.\n",
            "WARNING:tensorflow:Rank of input Tensor (1) should be the same as output_rank (2) for column. Will attempt to expand dims. It is highly recommended that you resize your input, as this behavior may change.\n",
            "WARNING:tensorflow:Rank of input Tensor (1) should be the same as output_rank (2) for column. Will attempt to expand dims. It is highly recommended that you resize your input, as this behavior may change.\n",
            "WARNING:tensorflow:Rank of input Tensor (1) should be the same as output_rank (2) for column. Will attempt to expand dims. It is highly recommended that you resize your input, as this behavior may change.\n",
            "WARNING:tensorflow:Rank of input Tensor (1) should be the same as output_rank (2) for column. Will attempt to expand dims. It is highly recommended that you resize your input, as this behavior may change.\n",
            "WARNING:tensorflow:Rank of input Tensor (1) should be the same as output_rank (2) for column. Will attempt to expand dims. It is highly recommended that you resize your input, as this behavior may change.\n",
            "WARNING:tensorflow:Rank of input Tensor (1) should be the same as output_rank (2) for column. Will attempt to expand dims. It is highly recommended that you resize your input, as this behavior may change.\n",
            "WARNING:tensorflow:Rank of input Tensor (1) should be the same as output_rank (2) for column. Will attempt to expand dims. It is highly recommended that you resize your input, as this behavior may change.\n",
            "WARNING:tensorflow:Rank of input Tensor (1) should be the same as output_rank (2) for column. Will attempt to expand dims. It is highly recommended that you resize your input, as this behavior may change.\n",
            "WARNING:tensorflow:Rank of input Tensor (1) should be the same as output_rank (2) for column. Will attempt to expand dims. It is highly recommended that you resize your input, as this behavior may change.\n",
            "WARNING:tensorflow:Rank of input Tensor (1) should be the same as output_rank (2) for column. Will attempt to expand dims. It is highly recommended that you resize your input, as this behavior may change.\n",
            "WARNING:tensorflow:Rank of input Tensor (1) should be the same as output_rank (2) for column. Will attempt to expand dims. It is highly recommended that you resize your input, as this behavior may change.\n",
            "WARNING:tensorflow:Rank of input Tensor (1) should be the same as output_rank (2) for column. Will attempt to expand dims. It is highly recommended that you resize your input, as this behavior may change.\n",
            "WARNING:tensorflow:Rank of input Tensor (1) should be the same as output_rank (2) for column. Will attempt to expand dims. It is highly recommended that you resize your input, as this behavior may change.\n",
            "WARNING:tensorflow:Rank of input Tensor (1) should be the same as output_rank (2) for column. Will attempt to expand dims. It is highly recommended that you resize your input, as this behavior may change.\n",
            "WARNING:tensorflow:Rank of input Tensor (1) should be the same as output_rank (2) for column. Will attempt to expand dims. It is highly recommended that you resize your input, as this behavior may change.\n",
            "WARNING:tensorflow:Rank of input Tensor (1) should be the same as output_rank (2) for column. Will attempt to expand dims. It is highly recommended that you resize your input, as this behavior may change.\n",
            "WARNING:tensorflow:Rank of input Tensor (1) should be the same as output_rank (2) for column. Will attempt to expand dims. It is highly recommended that you resize your input, as this behavior may change.\n",
            "WARNING:tensorflow:Rank of input Tensor (1) should be the same as output_rank (2) for column. Will attempt to expand dims. It is highly recommended that you resize your input, as this behavior may change.\n",
            "WARNING:tensorflow:Rank of input Tensor (1) should be the same as output_rank (2) for column. Will attempt to expand dims. It is highly recommended that you resize your input, as this behavior may change.\n",
            "WARNING:tensorflow:Rank of input Tensor (1) should be the same as output_rank (2) for column. Will attempt to expand dims. It is highly recommended that you resize your input, as this behavior may change.\n",
            "WARNING:tensorflow:Rank of input Tensor (1) should be the same as output_rank (2) for column. Will attempt to expand dims. It is highly recommended that you resize your input, as this behavior may change.\n",
            "WARNING:tensorflow:Rank of input Tensor (1) should be the same as output_rank (2) for column. Will attempt to expand dims. It is highly recommended that you resize your input, as this behavior may change.\n",
            "WARNING:tensorflow:Rank of input Tensor (1) should be the same as output_rank (2) for column. Will attempt to expand dims. It is highly recommended that you resize your input, as this behavior may change.\n",
            "WARNING:tensorflow:Rank of input Tensor (1) should be the same as output_rank (2) for column. Will attempt to expand dims. It is highly recommended that you resize your input, as this behavior may change.\n",
            "WARNING:tensorflow:Rank of input Tensor (1) should be the same as output_rank (2) for column. Will attempt to expand dims. It is highly recommended that you resize your input, as this behavior may change.\n",
            "WARNING:tensorflow:Rank of input Tensor (1) should be the same as output_rank (2) for column. Will attempt to expand dims. It is highly recommended that you resize your input, as this behavior may change.\n",
            "WARNING:tensorflow:Rank of input Tensor (1) should be the same as output_rank (2) for column. Will attempt to expand dims. It is highly recommended that you resize your input, as this behavior may change.\n",
            "WARNING:tensorflow:Rank of input Tensor (1) should be the same as output_rank (2) for column. Will attempt to expand dims. It is highly recommended that you resize your input, as this behavior may change.\n",
            "WARNING:tensorflow:Rank of input Tensor (1) should be the same as output_rank (2) for column. Will attempt to expand dims. It is highly recommended that you resize your input, as this behavior may change.\n",
            "WARNING:tensorflow:Rank of input Tensor (1) should be the same as output_rank (2) for column. Will attempt to expand dims. It is highly recommended that you resize your input, as this behavior may change.\n",
            "INFO:tensorflow:Graph was finalized.\n",
            "INFO:tensorflow:Restoring parameters from models/model_WIDE_AND_DEEP_1574307468/model.ckpt-2002\n",
            "INFO:tensorflow:Running local_init_op.\n",
            "INFO:tensorflow:Done running local_init_op.\n",
            "count=1, class=0\n"
          ],
          "name": "stdout"
        }
      ]
    },
    {
      "cell_type": "markdown",
      "metadata": {
        "id": "wQ5VI8dR0zZj",
        "colab_type": "text"
      },
      "source": [
        "# Export a model optimized for inference\n",
        "We can upload our trained model to the Cloud Machine Learning Engine's Prediction Service, which will take care of serving our model and scaling it. The code below exports our trained model to a `saved_model.pb` file and a `variables` folder where the trained weights are stored. \n",
        "\n",
        "The `export_savedmodel()` function expects a `serving_input_fn()`, which returns the mapping from the data that the Prediction Service passes in to the data that should be fed into the trained TensorFlow prediction graph."
      ]
    },
    {
      "cell_type": "code",
      "metadata": {
        "id": "AD0zTtx50zZk",
        "colab_type": "code",
        "colab": {}
      },
      "source": [
        "from tensorflow.contrib.learn.python.learn.utils import input_fn_utils\n",
        "\n",
        "def column_to_dtype(column):\n",
        "    if column in CATEGORICAL_COLUMNS:\n",
        "        return tf.string\n",
        "    else:\n",
        "        return tf.float32\n",
        "\n",
        "def serving_input_fn():\n",
        "    feature_placeholders = {\n",
        "        column: tf.placeholder(column_to_dtype(column), [None])\n",
        "        for column in FEATURE_COLUMNS\n",
        "    }\n",
        "    # DNNCombinedLinearClassifier expects rank 2 Tensors, but inputs should be\n",
        "    # rank 1, so that we can provide scalars to the server\n",
        "    features = {\n",
        "        key: tf.expand_dims(tensor, -1)\n",
        "        for key, tensor in feature_placeholders.items()\n",
        "    }\n",
        "    \n",
        "    return input_fn_utils.InputFnOps(\n",
        "        features, # input into graph\n",
        "        None,\n",
        "        feature_placeholders # tensor input converted from request \n",
        "    )\n",
        "    \n",
        "    "
      ],
      "execution_count": 0,
      "outputs": []
    },
    {
      "cell_type": "code",
      "metadata": {
        "scrolled": true,
        "id": "OWXeclqt0zZn",
        "colab_type": "code",
        "colab": {}
      },
      "source": [
        "# Manually export\n",
        "export_folder = m.export_savedmodel(\n",
        "    export_dir_base = model_dir + '/export',\n",
        "    input_fn=serving_input_fn\n",
        ")\n",
        "\n",
        "print('model exported successfully to {}'.format(export_folder))"
      ],
      "execution_count": 0,
      "outputs": []
    },
    {
      "cell_type": "markdown",
      "metadata": {
        "id": "6QISRjFI0zZq",
        "colab_type": "text"
      },
      "source": [
        "# Using Experiments to manage the training workflow\n",
        "TensorFlow also offers an \"Experiments\" framework to help manage your training for you. Using it will take away some of the boilerplate and automate certain actions, but it's important to understand what is happening (what we did above) before using something like this.\n",
        "\n",
        "Notice that we don't need to create additional wrapper functions here, but rather, we can directly use the various functions we already defined previously. "
      ]
    },
    {
      "cell_type": "code",
      "metadata": {
        "id": "q6WVxcDh0zZq",
        "colab_type": "code",
        "colab": {}
      },
      "source": [
        "from tensorflow.contrib.learn.python.learn import learn_runner\n",
        "from tensorflow.contrib.learn.python.learn.utils import saved_model_export_utils\n",
        "\n",
        "\n",
        "# get_model(model_type = 'WIDE_AND_DEEP', model_dir=model_dir)\n",
        "\n",
        "# output_dir is an arg passed in by the learn_runner.run() call.\n",
        "def experiment_fn(output_dir):\n",
        "    \n",
        "    print(output_dir)\n",
        "    \n",
        "    train_input_fn = generate_input_fn(train_file, BATCH_SIZE)\n",
        "    eval_input_fn = generate_input_fn(eval_file)\n",
        "    my_model = get_model(model_type=MODEL_TYPE, \n",
        "                  model_dir=output_dir)\n",
        "\n",
        "    experiment = tf.contrib.learn.Experiment(\n",
        "        my_model,\n",
        "        train_input_fn=train_input_fn,\n",
        "        eval_input_fn=eval_input_fn,\n",
        "        train_steps=1000\n",
        "        ,\n",
        "        export_strategies=[saved_model_export_utils.make_export_strategy(\n",
        "            serving_input_fn,\n",
        "            default_output_alternative_key=None,\n",
        "            exports_to_keep=1\n",
        "        )]\n",
        "    )\n",
        "    return experiment"
      ],
      "execution_count": 0,
      "outputs": []
    },
    {
      "cell_type": "code",
      "metadata": {
        "scrolled": true,
        "id": "paOoanfq0zZx",
        "colab_type": "code",
        "colab": {}
      },
      "source": [
        "# manually train and eval\n",
        "%%time\n",
        "\n",
        "exp = experiment_fn(model_dir)\n",
        "\n",
        "exp.train_and_evaluate()"
      ],
      "execution_count": 0,
      "outputs": []
    },
    {
      "cell_type": "code",
      "metadata": {
        "scrolled": true,
        "id": "j1DduOf00zZz",
        "colab_type": "code",
        "colab": {}
      },
      "source": [
        "# Run the experiment\n",
        "\n",
        "model_dir=create_model_dir(model_type=MODEL_TYPE)\n",
        "metrics, output_folder = learn_runner.run(experiment_fn, model_dir)\n",
        "\n",
        "print('Accuracy: {}'.format(metrics['accuracy']))\n",
        "print('Model exported to {}'.format(output_folder))"
      ],
      "execution_count": 0,
      "outputs": []
    },
    {
      "cell_type": "markdown",
      "metadata": {
        "id": "CbaR6RTR0zZ2",
        "colab_type": "text"
      },
      "source": [
        "# Conclusions\n",
        "\n",
        "In this Juypter notebook, we have configured, created, and evaluated a Wide & Deep machine learning model, that combines the powers of a Linear Classifier with a Deep Neural Network, using TensorFlow's Estimator and Experiment classes.\n",
        "\n",
        "With this working example in your toolbelt, you are ready to explore the wide (and deep) world of machine learning with TensorFlow! Some ideas to help you get going:\n",
        "* Change the features we used today. Which columns do you think are correlated and should be crossed? Which ones do you think are just adding noise and could be removed to clean up the model?\n",
        "* Swap in an entirely new dataset! There are many datasets available on the web, or use a dataset you possess! Check out https://archive.ics.uci.edu/ml to find your own dataset. "
      ]
    }
  ]
}