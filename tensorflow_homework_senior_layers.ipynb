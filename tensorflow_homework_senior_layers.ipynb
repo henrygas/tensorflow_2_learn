{
  "nbformat": 4,
  "nbformat_minor": 0,
  "metadata": {
    "colab": {
      "name": "tensorflow_homework_senior_layers.ipynb",
      "provenance": [],
      "collapsed_sections": [],
      "include_colab_link": true
    },
    "kernelspec": {
      "name": "python3",
      "display_name": "Python 3"
    }
  },
  "cells": [
    {
      "cell_type": "markdown",
      "metadata": {
        "id": "view-in-github",
        "colab_type": "text"
      },
      "source": [
        "<a href=\"https://colab.research.google.com/github/henrygas/tensorflow_2_learn/blob/master/tensorflow_homework_senior_layers.ipynb\" target=\"_parent\"><img src=\"https://colab.research.google.com/assets/colab-badge.svg\" alt=\"Open In Colab\"/></a>"
      ]
    },
    {
      "cell_type": "code",
      "metadata": {
        "id": "h-ozJpN3DgKM",
        "colab_type": "code",
        "outputId": "29f79a19-f10c-4501-a9a2-92d05bfe2bac",
        "colab": {
          "base_uri": "https://localhost:8080/",
          "height": 53
        }
      },
      "source": [
        "%tensorflow_version 1.x\n",
        "import tensorflow as tf\n",
        "from tensorflow.examples.tutorials.mnist import input_data\n",
        "import numpy as np\n",
        "import matplotlib.pyplot as plt\n",
        "%matplotlib inline\n",
        "\n",
        "tf.logging.set_verbosity(tf.logging.INFO)\n",
        "print(tf.__version__)\n",
        "print(np.__version__)"
      ],
      "execution_count": 0,
      "outputs": [
        {
          "output_type": "stream",
          "text": [
            "1.15.0-rc3\n",
            "1.16.5\n"
          ],
          "name": "stdout"
        }
      ]
    },
    {
      "cell_type": "code",
      "metadata": {
        "id": "iegnIgueEaZf",
        "colab_type": "code",
        "outputId": "c0c11701-0a35-4efd-ca79-cf8c4af54138",
        "colab": {
          "base_uri": "https://localhost:8080/",
          "height": 197
        }
      },
      "source": [
        "mnist = input_data.read_data_sets(\"./\")\n",
        "print(mnist.train.images.shape)\n",
        "print(mnist.train.labels.shape)\n",
        "print(mnist.validation.images.shape)\n",
        "print(mnist.validation.labels.shape)\n",
        "print(mnist.test.images.shape)\n",
        "print(mnist.test.labels.shape)"
      ],
      "execution_count": 0,
      "outputs": [
        {
          "output_type": "stream",
          "text": [
            "Extracting ./train-images-idx3-ubyte.gz\n",
            "Extracting ./train-labels-idx1-ubyte.gz\n",
            "Extracting ./t10k-images-idx3-ubyte.gz\n",
            "Extracting ./t10k-labels-idx1-ubyte.gz\n",
            "(55000, 784)\n",
            "(55000,)\n",
            "(5000, 784)\n",
            "(5000,)\n",
            "(10000, 784)\n",
            "(10000,)\n"
          ],
          "name": "stdout"
        }
      ]
    },
    {
      "cell_type": "code",
      "metadata": {
        "id": "WqRLuPM6EwHa",
        "colab_type": "code",
        "outputId": "2578c02f-f465-4a8b-e051-9ffb4e6a89dc",
        "colab": {
          "base_uri": "https://localhost:8080/",
          "height": 719
        }
      },
      "source": [
        "x = tf.placeholder(\"float\", [None, 784])\n",
        "y = tf.placeholder(\"int64\", [None])\n",
        "learning_rate = tf.placeholder(\"float\")\n",
        "\n",
        "L1_units_count = 600\n",
        "L2_units_count = 100\n",
        "L3_units_count = 10\n",
        "\n",
        "min_val = -1\n",
        "max_val = 1\n",
        "\n",
        "W_1 = tf.Variable(tf.truncated_normal([784, L1_units_count], stddev=0.1))\n",
        "b_1 = tf.Variable(tf.truncated_normal([L1_units_count], stddev=0.1))\n",
        "logits_1 = tf.matmul(x, W_1) + b_1\n",
        "output_1 = tf.nn.relu(logits_1)\n",
        "\n",
        "W_2 = tf.Variable(tf.truncated_normal([L1_units_count, L2_units_count], stddev=0.1))\n",
        "b_2 = tf.Variable(tf.truncated_normal([L2_units_count], stddev=0.1))\n",
        "logits_2 = tf.matmul(output_1, W_2) + b_2\n",
        "output_2 = tf.nn.relu(logits_2)\n",
        "\n",
        "W_3 = tf.Variable(tf.truncated_normal([L2_units_count, L3_units_count], stddev=0.1))\n",
        "b_3 = tf.Variable(tf.truncated_normal([L3_units_count], stddev=0.1))\n",
        "logits_3 = tf.matmul(output_2, W_3) + b_3\n",
        "\n",
        "logits = logits_3\n",
        "\n",
        "cross_entropy_loss = tf.reduce_mean(tf.nn.sparse_softmax_cross_entropy_with_logits(logits=logits, labels=y))\n",
        "optimizer = tf.train.GradientDescentOptimizer(learning_rate=learning_rate).minimize(cross_entropy_loss)\n",
        "\n",
        "pred = tf.nn.softmax(logits)\n",
        "correct_pred = tf.equal(tf.argmax(pred, 1), y)\n",
        "accuracy = tf.reduce_mean(tf.cast(correct_pred, tf.float32))\n",
        "\n",
        "batch_size = 16\n",
        "max_train_step = 10000\n",
        "print(\"max_train_step:\", max_train_step)\n",
        "learning_rate_value = 0.1\n",
        "max_try_times = 3\n",
        "saver = tf.train.Saver()\n",
        "\n",
        "acc_validation_max = 0\n",
        "\n",
        "loss_array = list()\n",
        "\n",
        "try_times = 0\n",
        "while try_times < max_try_times:\n",
        "  try_times += 1\n",
        "  with tf.Session() as ses:\n",
        "    ses.run(tf.global_variables_initializer())\n",
        "    for i in range(max_train_step):\n",
        "      xs, ys = mnist.train.next_batch(batch_size)\n",
        "      _, loss = ses.run([optimizer, cross_entropy_loss],\n",
        "                feed_dict={\n",
        "                    x: xs,\n",
        "                    y: ys,\n",
        "                    learning_rate: learning_rate_value\n",
        "                })\n",
        "\n",
        "      if try_times == 1:\n",
        "        loss_array.append(loss)\n",
        "\n",
        "      if i % int(max_train_step / 10) == 0:\n",
        "        print(\"loss[{}]={}\".format(i, loss))\n",
        "\n",
        "    acc_validation = ses.run(accuracy, feed_dict={\n",
        "        x: mnist.validation.images,\n",
        "        y: mnist.validation.labels\n",
        "    })\n",
        "    if acc_validation > acc_validation_max:\n",
        "      acc_validation_max = acc_validation\n",
        "      saver.save(ses, \"./validation_model.ckpt\")\n",
        "\n",
        "    print(\"The {} th times of training is over. loss:{}, acc_validation:{}\\n\".format(try_times, loss, acc_validation))\n",
        "    \n",
        "# using model to run\n",
        "with tf.Session() as ses:\n",
        "  saver.restore(ses, \"./validation_model.ckpt\")\n",
        "  acc_train = ses.run(accuracy, feed_dict={\n",
        "      x: mnist.train.images,\n",
        "      y: mnist.train.labels\n",
        "  })\n",
        "  acc_validation = ses.run(accuracy, feed_dict={\n",
        "      x: mnist.validation.images,\n",
        "      y: mnist.validation.labels\n",
        "  })\n",
        "  acc_test = ses.run(accuracy, feed_dict={\n",
        "      x: mnist.test.images,\n",
        "      y: mnist.test.labels\n",
        "  })\n",
        "  print(\"using validation_model.ckpt, acc_train:{}, acc_validation:{}, acc_test:{}\".format(acc_train, acc_validation, acc_test))"
      ],
      "execution_count": 0,
      "outputs": [
        {
          "output_type": "stream",
          "text": [
            "max_train_step: 10000\n",
            "loss[0]=2.4676082134246826\n",
            "loss[1000]=0.2123345136642456\n",
            "loss[2000]=0.15514995157718658\n",
            "loss[3000]=0.21936194598674774\n",
            "loss[4000]=0.01373111829161644\n",
            "loss[5000]=0.4577820301055908\n",
            "loss[6000]=0.10525079071521759\n",
            "loss[7000]=0.06906004250049591\n",
            "loss[8000]=0.02499786578118801\n",
            "loss[9000]=0.0032645384781062603\n",
            "The 1 th times of training is over. loss:0.14368049800395966, acc_validation:0.9782000184059143\n",
            "\n",
            "loss[0]=2.673900604248047\n",
            "loss[1000]=0.05248703435063362\n",
            "loss[2000]=0.026685312390327454\n",
            "loss[3000]=0.004341126419603825\n",
            "loss[4000]=0.021512897685170174\n",
            "loss[5000]=0.004233694635331631\n",
            "loss[6000]=0.015663931146264076\n",
            "loss[7000]=0.05983118340373039\n",
            "loss[8000]=0.03159569203853607\n",
            "loss[9000]=0.007317689247429371\n",
            "The 2 th times of training is over. loss:0.006137462332844734, acc_validation:0.9800000190734863\n",
            "\n",
            "loss[0]=2.6177239418029785\n",
            "loss[1000]=0.22248168289661407\n",
            "loss[2000]=0.0587475411593914\n",
            "loss[3000]=0.2872404456138611\n",
            "loss[4000]=0.06137046962976456\n",
            "loss[5000]=0.21380408108234406\n",
            "loss[6000]=0.11135555803775787\n",
            "loss[7000]=0.003340376541018486\n",
            "loss[8000]=0.0014944208087399602\n",
            "loss[9000]=0.010241096839308739\n",
            "The 3 th times of training is over. loss:0.11832600086927414, acc_validation:0.9753999710083008\n",
            "\n",
            "INFO:tensorflow:Restoring parameters from ./validation_model.ckpt\n",
            "using validation_model.ckpt, acc_train:0.9880545735359192, acc_validation:0.9800000190734863, acc_test:0.9729999899864197\n"
          ],
          "name": "stdout"
        }
      ]
    },
    {
      "cell_type": "code",
      "metadata": {
        "id": "M6AVRv7KFEqu",
        "colab_type": "code",
        "outputId": "556e1f4a-46ae-43df-a1df-aab815406d48",
        "colab": {
          "base_uri": "https://localhost:8080/",
          "height": 574
        }
      },
      "source": [
        "steps = []\n",
        "for i in range(len(loss_array)):\n",
        "  steps.append(i)\n",
        "  \n",
        "x_array = np.array(steps)\n",
        "print(x_array)\n",
        "\n",
        "y_array = np.array(loss_array)\n",
        "print(y_array)\n",
        "\n",
        "plt.figure(figsize=(24, 8))\n",
        "plt.xlabel(\"step\")\n",
        "plt.ylabel(\"loss\")\n",
        "plt.scatter(x_array, y_array)"
      ],
      "execution_count": 0,
      "outputs": [
        {
          "output_type": "stream",
          "text": [
            "[   0    1    2 ... 9997 9998 9999]\n",
            "[2.4676082  2.1564455  2.3902788  ... 0.0464793  0.04577263 0.1436805 ]\n"
          ],
          "name": "stdout"
        },
        {
          "output_type": "execute_result",
          "data": {
            "text/plain": [
              "<matplotlib.collections.PathCollection at 0x7febf5358c88>"
            ]
          },
          "metadata": {
            "tags": []
          },
          "execution_count": 20
        },
        {
          "output_type": "display_data",
          "data": {
            "image/png": "[encoded data removed]",
            "text/plain": [
              "<Figure size 1728x576 with 1 Axes>"
            ]
          },
          "metadata": {
            "tags": []
          }
        }
      ]
    },
    {
      "cell_type": "code",
      "metadata": {
        "id": "e2l2fksExeax",
        "colab_type": "code",
        "outputId": "fca8b3cc-f1c6-4817-f6e7-7ae6a0ba7a37",
        "colab": {
          "base_uri": "https://localhost:8080/",
          "height": 53
        }
      },
      "source": [
        "with tf.Session() as ses:\n",
        "  saver.restore(ses, \"./validation_model.ckpt\")\n",
        "  acc_train = ses.run(accuracy, feed_dict={\n",
        "      x: mnist.train.images,\n",
        "      y: mnist.train.labels\n",
        "  })\n",
        "  acc_validation = ses.run(accuracy, feed_dict={\n",
        "      x: mnist.validation.images,\n",
        "      y: mnist.validation.labels\n",
        "  })\n",
        "  acc_test = ses.run(accuracy, feed_dict={\n",
        "      x: mnist.test.images,\n",
        "      y: mnist.test.labels\n",
        "  })\n",
        "  print(\"using validation_model.ckpt, acc_train:{}, acc_validation:{}, acc_test:{}\".format(acc_train, acc_validation, acc_test))"
      ],
      "execution_count": 0,
      "outputs": [
        {
          "output_type": "stream",
          "text": [
            "INFO:tensorflow:Restoring parameters from ./validation_model.ckpt\n",
            "using validation_model.ckpt, acc_train:0.9880545735359192, acc_validation:0.9800000190734863, acc_test:0.9729999899864197\n"
          ],
          "name": "stdout"
        }
      ]
    },
    {
      "cell_type": "markdown",
      "metadata": {
        "id": "L9qRX97l4C_F",
        "colab_type": "text"
      },
      "source": [
        "## 影响模型的因素主要有\n",
        "1. 神经网络隐层数\n",
        "2. 神经网络隐层内节点数\n",
        "3. 初始化权重矩阵\n",
        "4. 损失函数选择\n",
        "5. 优化器选择\n",
        "6. 学习率\n",
        "7. mini-batch SGD中batch_size的选取\n",
        "8. 迭代step数的选取\n",
        "9. 正则项\n",
        "\n",
        "## 调参过程，就从这些方面进行尝试\n",
        "+ 1,2代表模型的复杂度，值越大，越能拟合训练集，让训练结果从欠拟合向过拟合的方向前进。L1隐层用来提取输入层特征，对于图像数据而言，L1隐层的节点数最好设置较大，接近图像的分辨率，这样可以最大限度的提取图像详细特征, 这里设置了600; L2隐层节点数可以设定的稍小一些，这里设置了100；L3层为输出层<br/>\n",
        "+ 3影响了模型的初始状态，它的设定很重要，对结果影响比较大，这里选择了带截距的正态分布取值，取值范围在$2 \\sigma$范围内.<br/>\n",
        "+ 4损失函数选择了交叉熵损失函数，比较适合多分类问题，对结果进行softmax处理，就得到属于每个分类的概率。<br/>\n",
        "+ 5优化器选择了SGD, 每次送入一小批量的训练数据用来训练，根据前馈计算得出loss, 再通过反向传播得到一次权重更新。\n",
        "+ 6学习率learning_rate的设置，影响了到达最优值的速度，值设置的越小，模型收敛的越慢，越可能找到最优值的精确位置，但如果设置的过小，就有可能陷入局部最优了。一般取值0.001, 0.01, 0.1, 0.5, 1， 这里经过反复测试，确定取值为0.1时，可以得到较好的结果。\n",
        "+ 7batch-size的选取，这里选择了16，据说要选择2的指数的值，便于提高效率。\n",
        "+ 8迭代step数的选取，这是很重要的数据，最终将准确率从96%提升到98%以上，有赖于将这个参数放大，它放大后，相当于对训练集的训练过程，持续了超过1个epoch，这样相当于变相增加了数据集的大小，可以得到较好的结果。\n",
        "+ 9正则项，用来防止模型发生过拟合的情况，即训练集上的准确度很高，但在测试集上表现糟糕的情况。"
      ]
    }
  ]
}