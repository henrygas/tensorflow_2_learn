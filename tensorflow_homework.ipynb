{
  "nbformat": 4,
  "nbformat_minor": 0,
  "metadata": {
    "colab": {
      "name": "tensorflow_homework.ipynb",
      "provenance": [],
      "collapsed_sections": [],
      "include_colab_link": true
    },
    "kernelspec": {
      "name": "python3",
      "display_name": "Python 3"
    }
  },
  "cells": [
    {
      "cell_type": "markdown",
      "metadata": {
        "id": "view-in-github",
        "colab_type": "text"
      },
      "source": [
        "<a href=\"https://colab.research.google.com/github/henrygas/tensorflow_2_learn/blob/master/tensorflow_homework.ipynb\" target=\"_parent\"><img src=\"https://colab.research.google.com/assets/colab-badge.svg\" alt=\"Open In Colab\"/></a>"
      ]
    },
    {
      "cell_type": "code",
      "metadata": {
        "id": "McIdLuwemOss",
        "colab_type": "code",
        "outputId": "73db3980-21bd-415b-f8ed-d90c8c87525b",
        "colab": {
          "base_uri": "https://localhost:8080/",
          "height": 35
        }
      },
      "source": [
        "%tensorflow_version 1.x\n",
        "\n",
        "import numpy as np\n",
        "import tensorflow as tf\n",
        "from tensorflow.examples.tutorials.mnist import input_data\n",
        "from matplotlib import pyplot as plt\n",
        "%matplotlib inline\n",
        "\n",
        "tf.logging.set_verbosity(tf.logging.INFO)\n",
        "print(tf.__version__)"
      ],
      "execution_count": 0,
      "outputs": [
        {
          "output_type": "stream",
          "text": [
            "1.15.0-rc3\n"
          ],
          "name": "stdout"
        }
      ]
    },
    {
      "cell_type": "code",
      "metadata": {
        "id": "G4TNLEJEsK3v",
        "colab_type": "code",
        "outputId": "150558e5-9c86-4ab3-cdbd-8354b629bf16",
        "colab": {
          "base_uri": "https://localhost:8080/",
          "height": 613
        }
      },
      "source": [
        "mnist = input_data.read_data_sets(\"./\")\n",
        "\n",
        "print(mnist.train.images.shape)\n",
        "print(mnist.train.labels.shape)\n",
        "\n",
        "print(mnist.validation.images.shape)\n",
        "print(mnist.validation.labels.shape)\n",
        "\n",
        "print(mnist.test.images.shape)\n",
        "print(mnist.test.labels.shape)"
      ],
      "execution_count": 0,
      "outputs": [
        {
          "output_type": "stream",
          "text": [
            "WARNING:tensorflow:From <ipython-input-2-b0ffac263758>:1: read_data_sets (from tensorflow.contrib.learn.python.learn.datasets.mnist) is deprecated and will be removed in a future version.\n",
            "Instructions for updating:\n",
            "Please use alternatives such as official/mnist/dataset.py from tensorflow/models.\n",
            "WARNING:tensorflow:From /usr/local/lib/python3.6/dist-packages/tensorflow_core/contrib/learn/python/learn/datasets/mnist.py:260: maybe_download (from tensorflow.contrib.learn.python.learn.datasets.base) is deprecated and will be removed in a future version.\n",
            "Instructions for updating:\n",
            "Please write your own downloading logic.\n",
            "WARNING:tensorflow:From /usr/local/lib/python3.6/dist-packages/tensorflow_core/contrib/learn/python/learn/datasets/base.py:252: _internal_retry.<locals>.wrap.<locals>.wrapped_fn (from tensorflow.contrib.learn.python.learn.datasets.base) is deprecated and will be removed in a future version.\n",
            "Instructions for updating:\n",
            "Please use urllib or similar directly.\n",
            "Successfully downloaded train-images-idx3-ubyte.gz 9912422 bytes.\n",
            "WARNING:tensorflow:From /usr/local/lib/python3.6/dist-packages/tensorflow_core/contrib/learn/python/learn/datasets/mnist.py:262: extract_images (from tensorflow.contrib.learn.python.learn.datasets.mnist) is deprecated and will be removed in a future version.\n",
            "Instructions for updating:\n",
            "Please use tf.data to implement this functionality.\n",
            "Extracting ./train-images-idx3-ubyte.gz\n",
            "Successfully downloaded train-labels-idx1-ubyte.gz 28881 bytes.\n",
            "WARNING:tensorflow:From /usr/local/lib/python3.6/dist-packages/tensorflow_core/contrib/learn/python/learn/datasets/mnist.py:267: extract_labels (from tensorflow.contrib.learn.python.learn.datasets.mnist) is deprecated and will be removed in a future version.\n",
            "Instructions for updating:\n",
            "Please use tf.data to implement this functionality.\n",
            "Extracting ./train-labels-idx1-ubyte.gz\n",
            "Successfully downloaded t10k-images-idx3-ubyte.gz 1648877 bytes.\n",
            "Extracting ./t10k-images-idx3-ubyte.gz\n",
            "Successfully downloaded t10k-labels-idx1-ubyte.gz 4542 bytes.\n",
            "Extracting ./t10k-labels-idx1-ubyte.gz\n",
            "WARNING:tensorflow:From /usr/local/lib/python3.6/dist-packages/tensorflow_core/contrib/learn/python/learn/datasets/mnist.py:290: DataSet.__init__ (from tensorflow.contrib.learn.python.learn.datasets.mnist) is deprecated and will be removed in a future version.\n",
            "Instructions for updating:\n",
            "Please use alternatives such as official/mnist/dataset.py from tensorflow/models.\n",
            "(55000, 784)\n",
            "(55000,)\n",
            "(5000, 784)\n",
            "(5000,)\n",
            "(10000, 784)\n",
            "(10000,)\n"
          ],
          "name": "stdout"
        }
      ]
    },
    {
      "cell_type": "markdown",
      "metadata": {
        "id": "0Lw5xmFTsoiz",
        "colab_type": "text"
      },
      "source": [
        "可以看到images里面有数量不等的图片，每张图片是28$\\times$28长度的一维向量，所以用的时候需要将它转化为28$\\times$28的图片。labels中则是图片对应的数字的值。"
      ]
    },
    {
      "cell_type": "code",
      "metadata": {
        "id": "XytdtkIosluW",
        "colab_type": "code",
        "outputId": "9e48426c-bbbd-4269-fda1-f50ef687112a",
        "colab": {
          "base_uri": "https://localhost:8080/",
          "height": 499
        }
      },
      "source": [
        "plt.figure(figsize=(8, 8))\n",
        "\n",
        "for idx in range(16):\n",
        "  plt.subplot(4, 4, idx + 1)\n",
        "  plt.axis(\"off\")\n",
        "  plt.title(\"[{}]\".format(mnist.train.labels[idx]))\n",
        "  plt.imshow(mnist.train.images[idx].reshape((28, 28)))"
      ],
      "execution_count": 0,
      "outputs": [
        {
          "output_type": "display_data",
          "data": {
            "image/png": "[encoded data removed]",
            "text/plain": [
              "<Figure size 576x576 with 16 Axes>"
            ]
          },
          "metadata": {
            "tags": []
          }
        }
      ]
    },
    {
      "cell_type": "markdown",
      "metadata": {
        "id": "emIm67eHtf-T",
        "colab_type": "text"
      },
      "source": [
        "接下来，定义用于训练的网络，首先定义网络的输入。\n",
        "<br/><br/>\n",
        "这里我们直接使用上面的数据作为输入，所以定义两个placeholder分别用于图像和label数据，另外，定义一个float类型的变量用于设置学习率。\n",
        "<br/><br/>\n",
        "为了让网络更高效的运行，多个数据会被组织成一个batch送入网络，两个placeholder的第一个维度就是batchsize，因为我们这里还没有确定batchsize，所以第一个维度留空。"
      ]
    },
    {
      "cell_type": "code",
      "metadata": {
        "id": "u-XV9iVXtaSE",
        "colab_type": "code",
        "colab": {}
      },
      "source": [
        "x = tf.placeholder(\"float\", [None, 784])\n",
        "y = tf.placeholder(\"int64\", [None])\n",
        "learning_rate = tf.placeholder(\"float\")"
      ],
      "execution_count": 0,
      "outputs": []
    },
    {
      "cell_type": "code",
      "metadata": {
        "id": "ai5vbZ6Rua92",
        "colab_type": "code",
        "colab": {}
      },
      "source": [
        "def initialize(shape, stddev=0.1):\n",
        "  \"\"\"\n",
        "  :param shape: 输入张量的维度形状\n",
        "  :param stddev: 标准差\n",
        "  :return 生成指定维度的张量，元素值满足正态分布 N(0, stddev), 且元素都在正负2 * stddev范围内\n",
        "  \"\"\"\n",
        "  return tf.truncated_normal(shape, stddev=0.1)\n",
        "\n",
        "L1_units_count = 100\n",
        "W_1 = tf.Variable(initialize([784, L1_units_count]))\n",
        "b_1 = tf.Variable(initialize([L1_units_count]))\n",
        "logits_1 = tf.matmul(x, W_1) + b_1\n",
        "output_1 = tf.nn.relu(logits_1)\n",
        "\n",
        "L2_units_count = 10\n",
        "W_2 = tf.Variable(initialize([L1_units_count, L2_units_count]))\n",
        "b_2 = tf.Variable(initialize([L2_units_count]))\n",
        "logits_2 = tf.matmul(output_1, W_2) + b_2\n",
        "\n",
        "logits = logits_2"
      ],
      "execution_count": 0,
      "outputs": []
    },
    {
      "cell_type": "markdown",
      "metadata": {
        "id": "z4qespT6qUHL",
        "colab_type": "text"
      },
      "source": [
        "接下来定义loss和用于优化网络的优化器。loss计算使用了sparse_softmax_cross_entropy_with_logits，这样做的好处是labels可以不用手动做one_hot省了一些麻烦。这里使用了sgd优化器，学习率为可以根据需要设定。\n",
        "<br/><br/>\n",
        "试试看，增大减小学习率，换个优化器再训练会发生什么。"
      ]
    },
    {
      "cell_type": "code",
      "metadata": {
        "id": "bUVxR3XqqvMm",
        "colab_type": "code",
        "colab": {}
      },
      "source": [
        "cross_entropy_loss = tf.reduce_mean(\n",
        "    tf.nn.sparse_softmax_cross_entropy_with_logits(logits=logits, labels=y)\n",
        ")\n",
        "\n",
        "optimizer = tf.train.GradientDescentOptimizer(\n",
        "    learning_rate=learning_rate).minimize(cross_entropy_loss)"
      ],
      "execution_count": 0,
      "outputs": []
    },
    {
      "cell_type": "markdown",
      "metadata": {
        "id": "3OUC9maBrRGq",
        "colab_type": "text"
      },
      "source": [
        "需要注意的是，上面的网络，最后输出的是未经softmax的原始logits，而不是概率分布，要想看到概率分布，还需要做一下softmax.\n",
        "<br/><br/>\n",
        "将输出的结果与正确结果进行对比，即可得到我们的网络输出结果的准确率。"
      ]
    },
    {
      "cell_type": "code",
      "metadata": {
        "id": "uoh-e_GGqtdM",
        "colab_type": "code",
        "colab": {}
      },
      "source": [
        "pred = tf.nn.softmax(logits)\n",
        "correct_pred = tf.equal(tf.argmax(pred, 1), y)\n",
        "accuracy = tf.reduce_mean(tf.cast(correct_pred, tf.float32))"
      ],
      "execution_count": 0,
      "outputs": []
    },
    {
      "cell_type": "markdown",
      "metadata": {
        "id": "rrNZE-qnsSTD",
        "colab_type": "text"
      },
      "source": [
        "saver用于保存或恢复训练的模型。"
      ]
    },
    {
      "cell_type": "code",
      "metadata": {
        "id": "eOnHhG6SsZIR",
        "colab_type": "code",
        "colab": {}
      },
      "source": [
        "batch_size = 32\n",
        "training_step = 1000\n",
        "\n",
        "saver = tf.train.Saver()"
      ],
      "execution_count": 0,
      "outputs": []
    },
    {
      "cell_type": "markdown",
      "metadata": {
        "id": "mdITD1plsgD1",
        "colab_type": "text"
      },
      "source": [
        "以上定义的所有操作，均为计算图Graph，也就是仅仅是定义了网络的结构，实际需要运行的话，还需要创建一个session，并将数据填入网络中。"
      ]
    },
    {
      "cell_type": "code",
      "metadata": {
        "id": "UQ5ZTw8Osq6F",
        "colab_type": "code",
        "outputId": "78078f12-18f5-4ec6-b06d-394b283c0565",
        "colab": {
          "base_uri": "https://localhost:8080/",
          "height": 289
        }
      },
      "source": [
        "with tf.Session() as sess:\n",
        "  sess.run(tf.global_variables_initializer())\n",
        "\n",
        "  # 定义验证集与测试集\n",
        "  validate_data = {\n",
        "      x: mnist.validation.images,\n",
        "      y: mnist.validation.labels\n",
        "  }\n",
        "  test_data = {\n",
        "      x: mnist.test.images,\n",
        "      y: mnist.test.labels\n",
        "  }\n",
        "\n",
        "  for i in range(training_step):\n",
        "    xs, ys = mnist.train.next_batch(batch_size)\n",
        "    _, loss = sess.run(\n",
        "        [optimizer, cross_entropy_loss],\n",
        "        feed_dict = {\n",
        "            x: xs,\n",
        "            y: ys,\n",
        "            learning_rate: 0.3\n",
        "        }\n",
        "    )\n",
        "\n",
        "    # 每100次训练打印一次损失值与验证准确率\n",
        "    if i > 0 and i % 100 == 0:\n",
        "      validate_accuracy = sess.run(accuracy, feed_dict=validate_data)\n",
        "      print(\"after {} training steps, the loss is {}, the validation accuracy is {}\".format(\n",
        "          i, loss, validate_accuracy\n",
        "      ))\n",
        "      saver.save(sess, \"./model.ckpt\", global_step=i)\n",
        "\n",
        "  print(\"the training is finished!\")\n",
        "  # 最终的测试准确率\n",
        "  acc = sess.run(accuracy, feed_dict=test_data)\n",
        "  print(\"the test accuracy is:{}\".format(acc))"
      ],
      "execution_count": 0,
      "outputs": [
        {
          "output_type": "stream",
          "text": [
            "after 100 training steps, the loss is 0.3007691502571106, the validation accuracy is 0.8791999816894531\n",
            "after 200 training steps, the loss is 0.18718621134757996, the validation accuracy is 0.9085999727249146\n",
            "after 300 training steps, the loss is 0.23296503722667694, the validation accuracy is 0.9223999977111816\n",
            "after 400 training steps, the loss is 0.23762854933738708, the validation accuracy is 0.9215999841690063\n",
            "after 500 training steps, the loss is 0.3668045997619629, the validation accuracy is 0.9247999787330627\n",
            "after 600 training steps, the loss is 0.23218177258968353, the validation accuracy is 0.9394000172615051\n",
            "WARNING:tensorflow:From /usr/local/lib/python3.6/dist-packages/tensorflow_core/python/training/saver.py:963: remove_checkpoint (from tensorflow.python.training.checkpoint_management) is deprecated and will be removed in a future version.\n",
            "Instructions for updating:\n",
            "Use standard file APIs to delete files with this prefix.\n",
            "after 700 training steps, the loss is 0.3196142911911011, the validation accuracy is 0.9466000199317932\n",
            "after 800 training steps, the loss is 0.30492380261421204, the validation accuracy is 0.9455999732017517\n",
            "after 900 training steps, the loss is 0.07111744582653046, the validation accuracy is 0.9508000016212463\n",
            "the training is finished!\n",
            "the test accuracy is:0.9503999948501587\n"
          ],
          "name": "stdout"
        }
      ]
    },
    {
      "cell_type": "markdown",
      "metadata": {
        "id": "FCITvhTCurIe",
        "colab_type": "text"
      },
      "source": [
        "下面，用我们训练的模型做一个测试。"
      ]
    },
    {
      "cell_type": "code",
      "metadata": {
        "id": "nRaoxslHup5Y",
        "colab_type": "code",
        "outputId": "f1dece0c-4ca6-48be-959c-30e67c964650",
        "colab": {
          "base_uri": "https://localhost:8080/",
          "height": 535
        }
      },
      "source": [
        "with tf.Session() as sess:\n",
        "  ckpt = tf.train.get_checkpoint_state(\"./\")\n",
        "  if ckpt and ckpt.model_checkpoint_path:\n",
        "    saver.restore(sess, ckpt.model_checkpoint_path)\n",
        "    final_pred, acc = sess.run(\n",
        "        [pred, accuracy],\n",
        "        feed_dict={\n",
        "            x: mnist.test.images[:16],\n",
        "            y: mnist.test.labels[:16]\n",
        "        }\n",
        "    )\n",
        "    orders = np.argsort(final_pred)\n",
        "    plt.figure(figsize=(8, 8))\n",
        "    print(acc)\n",
        "    for idx in range(16):\n",
        "      order = orders[idx, :][-1]\n",
        "      prob = final_pred[idx, :][order]\n",
        "      plt.subplot(4, 4, idx + 1)\n",
        "      plt.axis(\"off\")\n",
        "      plt.title(\"{}: [{}]-[{:.1f}%]\".format(mnist.test.labels[idx], order, prob * 100))\n",
        "      plt.imshow(mnist.test.images[idx].reshape((28, 28)))\n",
        "  else:\n",
        "    pass"
      ],
      "execution_count": 0,
      "outputs": [
        {
          "output_type": "stream",
          "text": [
            "INFO:tensorflow:Restoring parameters from ./model.ckpt-900\n",
            "0.9375\n"
          ],
          "name": "stdout"
        },
        {
          "output_type": "display_data",
          "data": {
            "image/png": "[encoded data removed]",
            "text/plain": [
              "<Figure size 576x576 with 16 Axes>"
            ]
          },
          "metadata": {
            "tags": []
          }
        }
      ]
    },
    {
      "cell_type": "markdown",
      "metadata": {
        "id": "EulsmlTAw3qE",
        "colab_type": "text"
      },
      "source": [
        "以作业提供的参数运行出来的结果，只看上面几个数字还是很不错的，但是总体准确率不太理想。"
      ]
    }
  ]
}